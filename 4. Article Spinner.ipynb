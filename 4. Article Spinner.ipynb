{
 "cells": [
  {
   "cell_type": "code",
   "execution_count": 23,
   "id": "c5a52b31-e2b5-4893-88b6-296f03ddb06d",
   "metadata": {},
   "outputs": [],
   "source": [
    "import pandas as pd\n",
    "import numpy as np\n",
    "import matplotlib.pyplot as plt\n",
    "import seaborn as sns\n",
    "%matplotlib inline\n",
    "import nltk \n",
    "from nltk import word_tokenize\n",
    "from nltk.tokenize.treebank import TreebankWordDetokenizer"
   ]
  },
  {
   "cell_type": "code",
   "execution_count": 24,
   "id": "9013d3bf-c866-4d69-b505-530d6c80061f",
   "metadata": {},
   "outputs": [],
   "source": [
    "#import business artical\n",
    "import os\n",
    "text = []\n",
    "for root, dirs, files in os.walk(\"business\"):\n",
    "   for file in files:\n",
    "       if file.endswith(\".txt\"):\n",
    "            filename = os.path.join(root, file) \n",
    "            with open(filename, 'r', encoding=\"utf8\", errors='ignore') as infile:\n",
    "                intext = ''\n",
    "                for line in infile:\n",
    "                    intext = intext + ' ' + line.replace(\"\\n\", '')\n",
    "                text.append(intext)\n",
    "            \n"
   ]
  },
  {
   "cell_type": "code",
   "execution_count": 25,
   "id": "bd59a14e-7d3a-4a10-8ad7-8c5061c4952e",
   "metadata": {},
   "outputs": [],
   "source": [
    "df = pd.DataFrame(text, columns=['text'])"
   ]
  },
  {
   "cell_type": "code",
   "execution_count": 26,
   "id": "cf04be50-66bc-459c-9109-e4aba90eca3c",
   "metadata": {},
   "outputs": [],
   "source": [
    "texts = pd.Series(text)"
   ]
  },
  {
   "cell_type": "code",
   "execution_count": 27,
   "id": "150bf046-cc64-48f7-9500-30c152a17fb2",
   "metadata": {},
   "outputs": [
    {
     "data": {
      "text/plain": [
       "' Japan narrowly escapes recession  Japan\\'s economy teetered on the brink of a technical recession in the three months to September, figures show.  Revised figures indicated growth of just 0.1% - and a similar-sized contraction in the previous quarter. On an annual basis, the data suggests annual growth of just 0.2%, suggesting a much more hesitant recovery than had previously been thought. A common technical definition of a recession is two successive quarters of negative growth.  The government was keen to play down the worrying implications of the data. \"I maintain the view that Japan\\'s economy remains in a minor adjustment phase in an upward climb, and we will monitor developments carefully,\" said economy minister Heizo Takenaka. But in the face of the strengthening yen making exports less competitive and indications of weakening economic conditions ahead, observers were less sanguine. \"It\\'s painting a picture of a recovery... much patchier than previously thought,\" said Paul Sheard, economist at Lehman Brothers in Tokyo. Improvements in the job market apparently have yet to feed through to domestic demand, with private consumption up just 0.2% in the third quarter.'"
      ]
     },
     "execution_count": 27,
     "metadata": {},
     "output_type": "execute_result"
    }
   ],
   "source": [
    "texts[5]"
   ]
  },
  {
   "cell_type": "code",
   "execution_count": 28,
   "id": "2523a94d-af1c-4c84-bf8a-3d094eab2741",
   "metadata": {},
   "outputs": [
    {
     "data": {
      "text/plain": [
       "' Ad sales boost Time Warner profit  Quarterly profits at US media giant TimeWarner jumped 76% to $1.13bn (£600m) for the three months to December, from $639m year-earlier.  The firm, which is now one of the biggest investors in Google, benefited from sales of high-speed internet connections and higher advert sales. TimeWarner said fourth quarter sales rose 2% to $11.1bn from $10.9bn. Its profits were buoyed by one-off gains which offset a profit dip at Warner Bros, and less users for AOL.  Time Warner said on Friday that it now owns 8% of search-engine Google. But its own internet business, AOL, had has mixed fortunes. It lost 464,000 subscribers in the fourth quarter profits were lower than in the preceding three quarters. However, the company said AOL\\'s underlying profit before exceptional items rose 8% on the back of stronger internet advertising revenues. It hopes to increase subscribers by offering the online service free to TimeWarner internet customers and will try to sign up AOL\\'s existing customers for high-speed broadband. TimeWarner also has to restate 2000 and 2003 results following a probe by the US Securities Exchange Commission (SEC), which is close to concluding.  Time Warner\\'s fourth quarter profits were slightly better than analysts\\' expectations. But its film division saw profits slump 27% to $284m, helped by box-office flops Alexander and Catwoman, a sharp contrast to year-earlier, when the third and final film in the Lord of the Rings trilogy boosted results. For the full-year, TimeWarner posted a profit of $3.36bn, up 27% from its 2003 performance, while revenues grew 6.4% to $42.09bn. \"Our financial performance was strong, meeting or exceeding all of our full-year objectives and greatly enhancing our flexibility,\" chairman and chief executive Richard Parsons said. For 2005, TimeWarner is projecting operating earnings growth of around 5%, and also expects higher revenue and wider profit margins.  TimeWarner is to restate its accounts as part of efforts to resolve an inquiry into AOL by US market regulators. It has already offered to pay $300m to settle charges, in a deal that is under review by the SEC. The company said it was unable to estimate the amount it needed to set aside for legal reserves, which it previously set at $500m. It intends to adjust the way it accounts for a deal with German music publisher Bertelsmann\\'s purchase of a stake in AOL Europe, which it had reported as advertising revenue. It will now book the sale of its stake in AOL Europe as a loss on the value of that stake.'"
      ]
     },
     "execution_count": 28,
     "metadata": {},
     "output_type": "execute_result"
    }
   ],
   "source": [
    "df['text'][0]"
   ]
  },
  {
   "cell_type": "code",
   "execution_count": 29,
   "id": "727900dc-6b51-4594-8347-1f088a6a2deb",
   "metadata": {},
   "outputs": [
    {
     "name": "stderr",
     "output_type": "stream",
     "text": [
      "[nltk_data] Downloading package punkt to\n",
      "[nltk_data]     C:\\Users\\e175932\\AppData\\Roaming\\nltk_data...\n",
      "[nltk_data]   Package punkt is already up-to-date!\n"
     ]
    },
    {
     "data": {
      "text/plain": [
       "True"
      ]
     },
     "execution_count": 29,
     "metadata": {},
     "output_type": "execute_result"
    }
   ],
   "source": [
    "nltk.download('punkt')"
   ]
  },
  {
   "cell_type": "code",
   "execution_count": 30,
   "id": "3b68160d-884a-464a-b498-73c22b20651a",
   "metadata": {},
   "outputs": [],
   "source": [
    "# collect counts:\n",
    "probs = {} # key: (w(t-1), w(t+1), value: {w(t): count(w(t))})\n",
    "for doc in texts:\n",
    "    lines = doc.split(\"\\n\")\n",
    "    for line in lines:\n",
    "        tokens = word_tokenize(line)\n",
    "        for i in range(len(tokens) - 2):\n",
    "            t_0 = tokens[i]\n",
    "            t_1 = tokens[i+1]\n",
    "            t_2 = tokens[i +2]\n",
    "            key = (t_0, t_2)\n",
    "            if key not in probs:\n",
    "                probs[key] = {}\n",
    "            # add count for middle token\n",
    "            if t_1 not in probs[key]:\n",
    "                probs[key][t_1] = 1\n",
    "            else: \n",
    "                probs[key][t_1] += 1"
   ]
  },
  {
   "cell_type": "code",
   "execution_count": 31,
   "id": "a5a01ade-552d-44de-9dd4-957c1c140187",
   "metadata": {},
   "outputs": [],
   "source": [
    "# normalize probabilities \n",
    "for key, d in probs.items():\n",
    "    # d should represent a distribution\n",
    "    total = sum(d.values())\n",
    "    for k, v in d.items():\n",
    "        d[k] = v/total\n"
   ]
  },
  {
   "cell_type": "code",
   "execution_count": 32,
   "id": "1bfb97a7-f729-4c92-b0ab-86f22b82fed4",
   "metadata": {},
   "outputs": [
    {
     "data": {
      "text/plain": [
       "{('Ad', 'boost'): {'sales': 1.0},\n",
       " ('sales', 'Time'): {'boost': 1.0},\n",
       " ('boost', 'Warner'): {'Time': 1.0},\n",
       " ('Time', 'profit'): {'Warner': 1.0},\n",
       " ('Warner', 'Quarterly'): {'profit': 1.0},\n",
       " ('profit', 'profits'): {'Quarterly': 1.0},\n",
       " ('Quarterly', 'at'): {'profits': 1.0},\n",
       " ('profits', 'US'): {'at': 1.0},\n",
       " ('at', 'media'): {'US': 1.0},\n",
       " ('US', 'giant'): {'media': 0.1,\n",
       "  'telecoms': 0.1,\n",
       "  'banking': 0.2,\n",
       "  'foods': 0.1,\n",
       "  'retail': 0.1,\n",
       "  'oil': 0.2,\n",
       "  'mortgage': 0.1,\n",
       "  'agrochemical': 0.1}}"
      ]
     },
     "execution_count": 32,
     "metadata": {},
     "output_type": "execute_result"
    }
   ],
   "source": [
    "dict(list(probs.items())[:10]) #checking probs"
   ]
  },
  {
   "cell_type": "code",
   "execution_count": 33,
   "id": "22193057-f080-419b-82c3-63d36c603232",
   "metadata": {},
   "outputs": [
    {
     "data": {
      "text/plain": [
       "[' Ad sales boost Time Warner profit  Quarterly profits at US media giant TimeWarner jumped 76% to $1.13bn (£600m) for the three months to December, from $639m year-earlier.  The firm, which is now one of the biggest investors in Google, benefited from sales of high-speed internet connections and higher advert sales. TimeWarner said fourth quarter sales rose 2% to $11.1bn from $10.9bn. Its profits were buoyed by one-off gains which offset a profit dip at Warner Bros, and less users for AOL.  Time Warner said on Friday that it now owns 8% of search-engine Google. But its own internet business, AOL, had has mixed fortunes. It lost 464,000 subscribers in the fourth quarter profits were lower than in the preceding three quarters. However, the company said AOL\\'s underlying profit before exceptional items rose 8% on the back of stronger internet advertising revenues. It hopes to increase subscribers by offering the online service free to TimeWarner internet customers and will try to sign up AOL\\'s existing customers for high-speed broadband. TimeWarner also has to restate 2000 and 2003 results following a probe by the US Securities Exchange Commission (SEC), which is close to concluding.  Time Warner\\'s fourth quarter profits were slightly better than analysts\\' expectations. But its film division saw profits slump 27% to $284m, helped by box-office flops Alexander and Catwoman, a sharp contrast to year-earlier, when the third and final film in the Lord of the Rings trilogy boosted results. For the full-year, TimeWarner posted a profit of $3.36bn, up 27% from its 2003 performance, while revenues grew 6.4% to $42.09bn. \"Our financial performance was strong, meeting or exceeding all of our full-year objectives and greatly enhancing our flexibility,\" chairman and chief executive Richard Parsons said. For 2005, TimeWarner is projecting operating earnings growth of around 5%, and also expects higher revenue and wider profit margins.  TimeWarner is to restate its accounts as part of efforts to resolve an inquiry into AOL by US market regulators. It has already offered to pay $300m to settle charges, in a deal that is under review by the SEC. The company said it was unable to estimate the amount it needed to set aside for legal reserves, which it previously set at $500m. It intends to adjust the way it accounts for a deal with German music publisher Bertelsmann\\'s purchase of a stake in AOL Europe, which it had reported as advertising revenue. It will now book the sale of its stake in AOL Europe as a loss on the value of that stake.']"
      ]
     },
     "execution_count": 33,
     "metadata": {},
     "output_type": "execute_result"
    }
   ],
   "source": [
    "df['text'].iloc[0].split(\"\\n\")"
   ]
  },
  {
   "cell_type": "code",
   "execution_count": 34,
   "id": "0e7e6f6c-5a03-46a2-b2a9-47e1b97020c0",
   "metadata": {},
   "outputs": [],
   "source": [
    "def spin_document(doc):\n",
    "    #split the document into lines(paragrah)\n",
    "    lines = doc.split(\"\\n\")\n",
    "    output = []\n",
    "    for line in lines:\n",
    "        if line:\n",
    "            new_line = spin_line(line)\n",
    "        else:\n",
    "            new_line = line\n",
    "        output.append(new_line)\n",
    "    return \"\\n\".join(output)"
   ]
  },
  {
   "cell_type": "code",
   "execution_count": 37,
   "id": "7a65fd0e-3e28-4df2-8ac1-9d92b75f6eb4",
   "metadata": {},
   "outputs": [],
   "source": [
    "detokenizer = TreebankWordDetokenizer()"
   ]
  },
  {
   "cell_type": "code",
   "execution_count": 38,
   "id": "dddea806-1d4b-44fd-bb98-9e7cc28a048a",
   "metadata": {},
   "outputs": [],
   "source": [
    "#df['text'].iloc[0].split(\"\\n\")[2] #checking one example"
   ]
  },
  {
   "cell_type": "code",
   "execution_count": 39,
   "id": "f23e9a07-9044-4816-a8f2-b177bb1dd374",
   "metadata": {},
   "outputs": [],
   "source": [
    "#detokenizer.detokenize(word_tokenize(df['text'].iloc[0].split(\"\\n\")[2]))"
   ]
  },
  {
   "cell_type": "code",
   "execution_count": 40,
   "id": "224c2e25-a382-4078-916e-9d036fddfb9f",
   "metadata": {},
   "outputs": [],
   "source": [
    "def sample_word(d):\n",
    "    p0 = np.random.random()\n",
    "    cummulative = 0\n",
    "    for t, p in d.items():\n",
    "        cummulative += p \n",
    "        if p0 < cummulative:\n",
    "            return t\n",
    "    assert(False) # should never get there"
   ]
  },
  {
   "cell_type": "code",
   "execution_count": 41,
   "id": "049db8bf-17dd-4b02-bee3-a3d20d602831",
   "metadata": {},
   "outputs": [],
   "source": [
    "from nltk.tokenize import  word_tokenize\n",
    "def spin_line(line):\n",
    "    tokens = word_tokenize(line)\n",
    "    i = 0 \n",
    "    output = [tokens[0]]\n",
    "    while i < (len(tokens) - 2):\n",
    "        t_0 = tokens[i]\n",
    "        t_1 = tokens[i + 1]\n",
    "        t_2 = tokens[i + 2]\n",
    "        key = (t_0, t_2)\n",
    "        p_dist = probs[key]\n",
    "        if len(p_dist) > 1 and np.random.random() < 0.3:\n",
    "            #let's replace the middle word\n",
    "            middle = sample_word(p_dist)\n",
    "            output.append(t_1)\n",
    "            output.append(\"<\" + middle + \">\")\n",
    "            output.append(t_2)\n",
    "            \n",
    "            #we wont replace the 3rd token since the middle \n",
    "            # token was dependent on it \n",
    "            # instead, skp ahead 2 steps \n",
    "            i += 2\n",
    "        else:\n",
    "            # we wont replace this middle word \n",
    "            output.append(t_1)\n",
    "            i += 1\n",
    "    # append the final token  - only if there is no replacement\n",
    "    if i == len(tokens) - 2:\n",
    "        output.append(tokens[-1])\n",
    "    return detokenizer.detokenize(output)"
   ]
  },
  {
   "cell_type": "code",
   "execution_count": null,
   "id": "25237eb5-5d22-4973-aec9-185fb4472166",
   "metadata": {},
   "outputs": [],
   "source": []
  },
  {
   "cell_type": "code",
   "execution_count": 42,
   "id": "28a4fc35-2fd9-4797-a49b-8f80808daddc",
   "metadata": {},
   "outputs": [],
   "source": [
    "i = np.random.choice(texts.shape[0])\n",
    "doc = texts.iloc[i]\n",
    "new_doc = spin_document(doc)"
   ]
  },
  {
   "cell_type": "code",
   "execution_count": 45,
   "id": "747d2bfa-e023-436a-b38b-ad8ca24a2e86",
   "metadata": {},
   "outputs": [
    {
     "name": "stdout",
     "output_type": "stream",
     "text": [
      "Unilever shake up as profit slips Anglo-Dutch consumer goods giant\n",
      "Unilever is to merge <report> its two management boards after\n",
      "reporting \"unsatisfactory\" earnings <rule> for 2004 . It blamed the\n",
      "poor results on sluggish decision making, a rise <recovery> in\n",
      "discounted retailers and a wet European summer . The company <IMF>\n",
      "also cited difficult trading conditions and a lack <chain> of demand\n",
      "<procedures> for goods such as its Slimfast <product> range .\n",
      "Unilever, which <who> owns brands including Dove soap, said annual\n",
      "pre-tax profit fell 36% to 2.9bn euros (£1.99bn). Shares fell 1 <0.5>%\n",
      "to 510.75 <55.57> pence in London <place>, and dropped <dropped> by\n",
      "1.2% to 50.50 <2.05> euros in Amsterdam . Under <But> the\n",
      "restructuring <company> plans, Patrick Cescau, the UK-based co-\n",
      "chairman, will become group chief executive . Dutch co-chairman Antony\n",
      "Burgmans will take on <on> the role <weakness> of non-executive <its>\n",
      "chairman . \"We have recognised the need for greater clarity of\n",
      "leadership and we are moving <expected> to a simpler leadership\n",
      "structure that will provide a sharper operational focus <control>,\" Mr\n",
      "Burgmans <Maran> said . <.> \"We <Closures> are leaving behind one of\n",
      "the key features of Unilever's governance but this is a natural\n",
      "<natural> development following the changes introduced last year .\"\n",
      "The company, which <Qantas> has had dual headquarters <listing> in\n",
      "Rotterdam <manufacturing> and London <London> since 1930, will\n",
      "announce the location of its head <local> office at a later date .\n",
      "Unilever is not alone in trying <order> to simplify its business\n",
      "<shareholders>. Oil giant Shell last year dismantled <at> its dual-\n",
      "ownership structure, after a series of problems <costs> relating to\n",
      "the size <end> of its oil <gold> reserves that hammered its share\n",
      "price and led <assets> to the resignation of key board members . \"The\n",
      "best <best> part of the news this morning was that the company\n",
      "announced a structure simplification <and>,\" said Arjan Sweere, an\n",
      "<an> analyst at Petercam <IXIS>. The company said the organizational\n",
      "changes would speed decision making, <bolts> and it also may make\n",
      "<fall> further changes . The company <company> said its main focus\n",
      "<focus> will be on improving profits, and it <this> is planning to\n",
      "accelerate <new> and increase investment in its 400 <two> main brands\n",
      "<claimants>. \"While it is <will> certainly the case <fact> that\n",
      "markets have been tougher <reined> in the past eighteen <few> months\n",
      "than we had expected <expected>, we have also lost some market share,\"\n",
      "said Mr Cescau . \"We let a range <kind> of targets limit our ability\n",
      "flexibility and did <will> not adjust our plans quickly enough to a\n",
      "more <\"> difficult business environment <\">.\" \"Our objective is to\n",
      "reverse the share loss that we experienced in some markets <traction>\n",
      "in 2004 and return to growth . <.>\" Unilever said European <music>\n",
      "sales fell 2.8% last year, dragged <driven> down by below part sales\n",
      "at its beverage <car> division, where revenues dipped <squeezed> by\n",
      "almost <almost> 4% . Sales <Sales> of ice cream and frozen food dipped\n",
      "by 3.4% In <which> the US last year, revenue grew by 1.5 <0.4>%\n",
      "\"despite <very> disappointing sales in Slimfast <Indonesia>\", the\n",
      "company <ADB> said . In Asia, leading products came under \"attack\"\n",
      "from rivals such as Procter & Gamble . Unilever took a 1.5bn <800m>\n",
      "euro one-time charge in the fourth <third> quarter, including <in> a\n",
      "650m euro write-down on Slimfast diet foods . Sales of Slimfast\n",
      "products have been <been> hit in recent <recent> years by the\n",
      "popularity of the Atkins diet . But looking ahead, Unilever <\"> said\n",
      "it was optimistic about prospects for its slimming <outdoor> products\n",
      "saying that demand is on <that> the wane for rival low-carbohydrate\n",
      "diets . The company <company> also said <said> it planned <continues>\n",
      "to spend 500m <500m> euros this year buying back shares.\n"
     ]
    }
   ],
   "source": [
    "import textwrap\n",
    "print(textwrap.fill(\n",
    "    new_doc, replace_whitespace = False, fix_sentence_endings = True\n",
    "))"
   ]
  },
  {
   "cell_type": "code",
   "execution_count": null,
   "id": "a8304761-e882-4932-b70c-f88695cdc1d0",
   "metadata": {},
   "outputs": [],
   "source": []
  },
  {
   "cell_type": "code",
   "execution_count": null,
   "id": "dc9864b5-4756-4422-bba7-04c179d521a9",
   "metadata": {},
   "outputs": [],
   "source": []
  },
  {
   "cell_type": "code",
   "execution_count": null,
   "id": "740f2698-a739-4b5d-9295-42b70aadb59c",
   "metadata": {},
   "outputs": [],
   "source": []
  }
 ],
 "metadata": {
  "kernelspec": {
   "display_name": "Python 3",
   "language": "python",
   "name": "python3"
  },
  "language_info": {
   "codemirror_mode": {
    "name": "ipython",
    "version": 3
   },
   "file_extension": ".py",
   "mimetype": "text/x-python",
   "name": "python",
   "nbconvert_exporter": "python",
   "pygments_lexer": "ipython3",
   "version": "3.8.8"
  }
 },
 "nbformat": 4,
 "nbformat_minor": 5
}
