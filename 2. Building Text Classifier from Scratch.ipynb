{
 "cells": [
  {
   "cell_type": "code",
   "execution_count": 128,
   "id": "0af623f9-31c1-4da7-89be-31a766298baf",
   "metadata": {},
   "outputs": [],
   "source": [
    "import pandas as pd\n",
    "import numpy as np\n",
    "import matplotlib.pyplot as plt\n",
    "import seaborn as sns\n",
    "%matplotlib inline\n",
    "import string"
   ]
  },
  {
   "cell_type": "code",
   "execution_count": null,
   "id": "cefb1a44-8e82-410c-853c-8769c00a7b59",
   "metadata": {},
   "outputs": [],
   "source": []
  },
  {
   "cell_type": "code",
   "execution_count": 129,
   "id": "01c25ce6-3de1-4801-902c-108b11c3ebf2",
   "metadata": {},
   "outputs": [],
   "source": [
    "#import gdown\n",
    "#!gdown https://raw.githubusercontent.com/lazyprogrammer/machine_learning_examples/master/hmm_class/edgar_allan_poe.txt\n",
    "#!gdown https://raw.githubusercontent.com/lazyprogrammer/machine_learning_examples/master/hmm_class/robert_frost.txt"
   ]
  },
  {
   "cell_type": "code",
   "execution_count": 130,
   "id": "e96884af-bacd-419f-b1e9-a5535834883f",
   "metadata": {},
   "outputs": [],
   "source": [
    "edgar_file = open('edgar_allan_poe.txt', 'r')\n",
    "robert_file= open('robert_frost.txt', 'r')"
   ]
  },
  {
   "cell_type": "code",
   "execution_count": 131,
   "id": "b79dbed5-1ee3-4f9b-b7fc-10345094e0c3",
   "metadata": {},
   "outputs": [],
   "source": [
    "nopunc1 = []\n",
    "nopunc2 =[]\n",
    "edgar = []\n",
    "robert = []\n",
    "for line in edgar_file:\n",
    "    nopunc1 = [char for char in line if char not in string.punctuation]\n",
    "    edgar.append(\"\".join(nopunc1))\n",
    "    \n",
    "for line2 in robert_file:\n",
    "    nopunc2 = [char for char in line2 if char not in string.punctuation]\n",
    "    robert.append(\"\".join(nopunc2))\n"
   ]
  },
  {
   "cell_type": "code",
   "execution_count": 132,
   "id": "92f211cb-df43-44ee-828f-ef3ef219e4be",
   "metadata": {},
   "outputs": [
    {
     "data": {
      "text/plain": [
       "['LO Death hath reard himself a throne\\n',\n",
       " 'In a strange city all alone\\n',\n",
       " 'Far down within the dim west\\n',\n",
       " 'Where the good and the bad and the worst and the best\\n',\n",
       " 'Have gone to their eternal rest\\n']"
      ]
     },
     "execution_count": 132,
     "metadata": {},
     "output_type": "execute_result"
    }
   ],
   "source": [
    "edgar[:5]\n"
   ]
  },
  {
   "cell_type": "code",
   "execution_count": 133,
   "id": "feb4a64f-f28e-435d-bbab-fd922a44dcc8",
   "metadata": {},
   "outputs": [
    {
     "data": {
      "text/plain": [
       "['And sorry I could not travel both\\n',\n",
       " 'And be one traveler long I stood\\n',\n",
       " 'And looked down one as far as I could\\n',\n",
       " 'To where it bent in the undergrowth \\n',\n",
       " '\\n',\n",
       " 'Then took the other as just as fair\\n',\n",
       " 'And having perhaps the better claim\\n',\n",
       " 'Because it was grassy and wanted wear\\n',\n",
       " 'Though as for that the passing there\\n',\n",
       " 'Had worn them really about the same\\n',\n",
       " '\\n',\n",
       " 'And both that morning equally lay\\n',\n",
       " 'In leaves no step had trodden black\\n',\n",
       " 'Oh I kept the first for another day \\n']"
      ]
     },
     "execution_count": 133,
     "metadata": {},
     "output_type": "execute_result"
    }
   ],
   "source": [
    "robert[1:15]"
   ]
  },
  {
   "cell_type": "code",
   "execution_count": null,
   "id": "431cc282-47c8-4274-ba0f-d688abc790a2",
   "metadata": {},
   "outputs": [],
   "source": []
  },
  {
   "cell_type": "code",
   "execution_count": 134,
   "id": "13cdd156-1ec2-4dcc-baf0-66aacf8dd7e1",
   "metadata": {},
   "outputs": [
    {
     "data": {
      "text/html": [
       "<div>\n",
       "<style scoped>\n",
       "    .dataframe tbody tr th:only-of-type {\n",
       "        vertical-align: middle;\n",
       "    }\n",
       "\n",
       "    .dataframe tbody tr th {\n",
       "        vertical-align: top;\n",
       "    }\n",
       "\n",
       "    .dataframe thead th {\n",
       "        text-align: right;\n",
       "    }\n",
       "</style>\n",
       "<table border=\"1\" class=\"dataframe\">\n",
       "  <thead>\n",
       "    <tr style=\"text-align: right;\">\n",
       "      <th></th>\n",
       "      <th>text</th>\n",
       "      <th>label</th>\n",
       "    </tr>\n",
       "  </thead>\n",
       "  <tbody>\n",
       "    <tr>\n",
       "      <th>0</th>\n",
       "      <td>LO Death hath reard himself a throne\\n</td>\n",
       "      <td>1</td>\n",
       "    </tr>\n",
       "    <tr>\n",
       "      <th>1</th>\n",
       "      <td>In a strange city all alone\\n</td>\n",
       "      <td>1</td>\n",
       "    </tr>\n",
       "    <tr>\n",
       "      <th>2</th>\n",
       "      <td>Far down within the dim west\\n</td>\n",
       "      <td>1</td>\n",
       "    </tr>\n",
       "    <tr>\n",
       "      <th>3</th>\n",
       "      <td>Where the good and the bad and the worst and t...</td>\n",
       "      <td>1</td>\n",
       "    </tr>\n",
       "    <tr>\n",
       "      <th>4</th>\n",
       "      <td>Have gone to their eternal rest\\n</td>\n",
       "      <td>1</td>\n",
       "    </tr>\n",
       "  </tbody>\n",
       "</table>\n",
       "</div>"
      ],
      "text/plain": [
       "                                                text  label\n",
       "0             LO Death hath reard himself a throne\\n      1\n",
       "1                      In a strange city all alone\\n      1\n",
       "2                     Far down within the dim west\\n      1\n",
       "3  Where the good and the bad and the worst and t...      1\n",
       "4                  Have gone to their eternal rest\\n      1"
      ]
     },
     "execution_count": 134,
     "metadata": {},
     "output_type": "execute_result"
    }
   ],
   "source": [
    "df1 = pd.DataFrame(edgar, columns = ['text'])\n",
    "df1['label'] = 1\n",
    "df2 = pd.DataFrame(robert, columns = ['text'])\n",
    "df2['label'] = 0\n",
    "df = pd.concat([df1,df2], axis=0)\n",
    "df.head()\n"
   ]
  },
  {
   "cell_type": "code",
   "execution_count": 178,
   "id": "7ba791e2-f038-493d-87b9-da0b35f23fb7",
   "metadata": {},
   "outputs": [
    {
     "data": {
      "text/html": [
       "<div>\n",
       "<style scoped>\n",
       "    .dataframe tbody tr th:only-of-type {\n",
       "        vertical-align: middle;\n",
       "    }\n",
       "\n",
       "    .dataframe tbody tr th {\n",
       "        vertical-align: top;\n",
       "    }\n",
       "\n",
       "    .dataframe thead th {\n",
       "        text-align: right;\n",
       "    }\n",
       "</style>\n",
       "<table border=\"1\" class=\"dataframe\">\n",
       "  <thead>\n",
       "    <tr style=\"text-align: right;\">\n",
       "      <th></th>\n",
       "      <th>text</th>\n",
       "      <th>label</th>\n",
       "    </tr>\n",
       "  </thead>\n",
       "  <tbody>\n",
       "    <tr>\n",
       "      <th>1576</th>\n",
       "      <td>\\n</td>\n",
       "      <td>0</td>\n",
       "    </tr>\n",
       "    <tr>\n",
       "      <th>1577</th>\n",
       "      <td>A featherhammer gives a double knock\\n</td>\n",
       "      <td>0</td>\n",
       "    </tr>\n",
       "    <tr>\n",
       "      <th>1578</th>\n",
       "      <td>This Eden day is done at two oclock\\n</td>\n",
       "      <td>0</td>\n",
       "    </tr>\n",
       "    <tr>\n",
       "      <th>1579</th>\n",
       "      <td>An hour of winter day might seem too short\\n</td>\n",
       "      <td>0</td>\n",
       "    </tr>\n",
       "    <tr>\n",
       "      <th>1580</th>\n",
       "      <td>To make it worth lifes while to wake and sport</td>\n",
       "      <td>0</td>\n",
       "    </tr>\n",
       "  </tbody>\n",
       "</table>\n",
       "</div>"
      ],
      "text/plain": [
       "                                                text  label\n",
       "1576                                              \\n      0\n",
       "1577          A featherhammer gives a double knock\\n      0\n",
       "1578           This Eden day is done at two oclock\\n      0\n",
       "1579    An hour of winter day might seem too short\\n      0\n",
       "1580  To make it worth lifes while to wake and sport      0"
      ]
     },
     "execution_count": 178,
     "metadata": {},
     "output_type": "execute_result"
    }
   ],
   "source": [
    "df.tail()"
   ]
  },
  {
   "cell_type": "code",
   "execution_count": 179,
   "id": "5989ae74-26c5-4e0c-950d-ede348e1556f",
   "metadata": {},
   "outputs": [
    {
     "name": "stderr",
     "output_type": "stream",
     "text": [
      "C:\\Users\\e175932\\Anaconda3\\lib\\site-packages\\seaborn\\_decorators.py:36: FutureWarning: Pass the following variable as a keyword arg: x. From version 0.12, the only valid positional argument will be `data`, and passing other arguments without an explicit keyword will result in an error or misinterpretation.\n",
      "  warnings.warn(\n"
     ]
    },
    {
     "data": {
      "text/plain": [
       "<AxesSubplot:xlabel='label', ylabel='count'>"
      ]
     },
     "execution_count": 179,
     "metadata": {},
     "output_type": "execute_result"
    },
    {
     "data": {
      "image/png": "[encoded data removed]",
      "text/plain": [
       "<Figure size 432x288 with 1 Axes>"
      ]
     },
     "metadata": {
      "needs_background": "light"
     },
     "output_type": "display_data"
    }
   ],
   "source": [
    "sns.countplot(df['label'])"
   ]
  },
  {
   "cell_type": "code",
   "execution_count": 138,
   "id": "d74dbd19-8ffc-4e50-9d76-652f20fd426f",
   "metadata": {},
   "outputs": [
    {
     "name": "stdout",
     "output_type": "stream",
     "text": [
      "1783 595\n"
     ]
    }
   ],
   "source": [
    "from sklearn.model_selection import train_test_split\n",
    "X_train, X_test, y_train, y_test = train_test_split(df['text'], df['label'])\n",
    "print(len(X_train), len(X_test))"
   ]
  },
  {
   "cell_type": "code",
   "execution_count": 141,
   "id": "b2195ccc-d391-4faa-bfc0-5231492ef505",
   "metadata": {},
   "outputs": [
    {
     "data": {
      "text/plain": [
       "1138    0\n",
       "704     0\n",
       "339     0\n",
       "994     0\n",
       "766     1\n",
       "Name: label, dtype: int64"
      ]
     },
     "execution_count": 141,
     "metadata": {},
     "output_type": "execute_result"
    }
   ],
   "source": []
  },
  {
   "cell_type": "code",
   "execution_count": 146,
   "id": "a2a51239-263a-4583-8d21-09a792293654",
   "metadata": {},
   "outputs": [],
   "source": [
    "idx = 1\n",
    "word2idx = {'<unk>': 0}\n",
    "for text in X_train:\n",
    "    tokens = text.split()\n",
    "    for i in tokens:\n",
    "        if i not in word2idx:\n",
    "            word2idx[i] = idx\n",
    "            idx += 1\n",
    "            "
   ]
  },
  {
   "cell_type": "code",
   "execution_count": 149,
   "id": "1d1b1ce3-7e85-4a6b-be97-62349b056ae9",
   "metadata": {},
   "outputs": [
    {
     "data": {
      "text/plain": [
       "2797"
      ]
     },
     "execution_count": 149,
     "metadata": {},
     "output_type": "execute_result"
    }
   ],
   "source": [
    "len(word2idx)"
   ]
  },
  {
   "cell_type": "code",
   "execution_count": 161,
   "id": "386e8788-f3f6-4743-9e66-38b0dbf0f06b",
   "metadata": {},
   "outputs": [],
   "source": [
    "a = {'a':1, 'b':2}\n",
    "dd = [a.get('c',3)]"
   ]
  },
  {
   "cell_type": "code",
   "execution_count": 162,
   "id": "0338860c-becc-4d9a-a3df-3e49deed0e07",
   "metadata": {},
   "outputs": [
    {
     "data": {
      "text/plain": [
       "[3]"
      ]
     },
     "execution_count": 162,
     "metadata": {},
     "output_type": "execute_result"
    }
   ],
   "source": [
    "dd"
   ]
  },
  {
   "cell_type": "code",
   "execution_count": 163,
   "id": "66599b01-bafd-46b5-a2b8-0f08507f90f4",
   "metadata": {},
   "outputs": [],
   "source": [
    "#convert data into integer format\n",
    "train_int = []\n",
    "test_int = []\n",
    "for text in X_train:\n",
    "    tokens = text.split()\n",
    "    line_int = [word2idx[i] for i in tokens]\n",
    "    train_int.append(line_int)\n",
    "    \n",
    "for text in X_test:\n",
    "    tokens = text.split()\n",
    "    line_int = [word2idx.get(i, 0) for i in tokens]\n",
    "    test_int.append(line_int)\n"
   ]
  },
  {
   "cell_type": "code",
   "execution_count": 167,
   "id": "97c9c734-35cf-4724-9a87-7f45d652a426",
   "metadata": {},
   "outputs": [
    {
     "data": {
      "text/plain": [
       "[[670, 2, 11, 137, 67, 39, 872, 61],\n",
       " [39, 248, 0, 31, 0, 2074, 64],\n",
       " [198, 0, 56, 1229, 29, 609, 0, 129],\n",
       " [],\n",
       " [107, 0, 37, 970, 704, 0, 124]]"
      ]
     },
     "execution_count": 167,
     "metadata": {},
     "output_type": "execute_result"
    }
   ],
   "source": [
    "test_int[100:105]"
   ]
  },
  {
   "cell_type": "code",
   "execution_count": 171,
   "id": "179be13e-7fe5-4575-9faa-e198741568eb",
   "metadata": {},
   "outputs": [],
   "source": [
    "# initialize A and Pi matrices - for both classes\n",
    "v = len(word2idx)\n",
    "A0 = np.ones((v,v))\n",
    "pi0 = np.ones(v)\n",
    "\n",
    "A1 = np.ones((v,v))\n",
    "pi1 = np.ones(v)"
   ]
  },
  {
   "cell_type": "code",
   "execution_count": 173,
   "id": "0f832551-2dd4-4a4c-99ef-903335fc17e1",
   "metadata": {},
   "outputs": [],
   "source": [
    "# compute counts for A and pi\n",
    "def compute_counts(text_as_int, A, pi):\n",
    "    for tokens in text_as_int:\n",
    "        last_idx = None\n",
    "        for idx in tokens:\n",
    "            if last_idx is None:\n",
    "                # its the first word in sentence\n",
    "                pi[idx] += 1\n",
    "            else:\n",
    "                # the last word exist, so counts a transition\n",
    "                A[last_idx, idx] += 1\n",
    "            # update  last idx    \n",
    "            last_idx = idx\n",
    "            \n",
    "compute_counts([t for t,y in zip(train_int, y_train) if y == 0], A0, pi0)\n",
    "compute_counts([t for t,y in zip(train_int, y_train) if y == 1], A1, pi1)"
   ]
  },
  {
   "cell_type": "code",
   "execution_count": 180,
   "id": "9db2d79e-a272-41b1-9bea-b400441fb6c3",
   "metadata": {},
   "outputs": [],
   "source": [
    "# normalize A and Pi so they are valid probability matrices\n",
    "A0 /= A0.sum(axis = 1, keepdims=True)\n",
    "pi0 /= pi0.sum()\n",
    "\n",
    "A1 /= A1.sum(axis = 1, keepdims = True)\n",
    "pi1 /= pi1.sum()\n",
    "\n",
    "#log A and Pi\n",
    "logA0 = np.log(A0)\n",
    "logpi0 = np.log(pi0)\n",
    "logA1 = np.log(A1)\n",
    "logpi1 = np.log(pi1)"
   ]
  },
  {
   "cell_type": "code",
   "execution_count": 182,
   "id": "92596e15-308e-49b3-998c-a7f27f82b379",
   "metadata": {},
   "outputs": [
    {
     "name": "stdout",
     "output_type": "stream",
     "text": [
      "0.6528323051037577 0.3471676948962423\n"
     ]
    }
   ],
   "source": [
    "# compute priors\n",
    "count0 = sum(y == 0 for y in y_train)\n",
    "count1 = sum(y == 1 for y in y_train)\n",
    "total = len(y_train)\n",
    "p0 = count0/ total\n",
    "p1 = count1/ total \n",
    "logp0 = np.log(p0)\n",
    "logp1 = np.log(p1)\n",
    "print(p0, p1)"
   ]
  },
  {
   "cell_type": "code",
   "execution_count": 183,
   "id": "aa185fb6-57e2-4d08-97cb-ca9614dba3b2",
   "metadata": {},
   "outputs": [],
   "source": [
    "# Build a classifier \n",
    "class Classifier:\n",
    "    def __init__(self, logAs, logpis, logpriors):\n",
    "        self.logAs = logAs\n",
    "        self.logpis = logpis\n",
    "        self.logpriors = logpriors\n",
    "        self.K = len(logpriors) #number of classes\n",
    "        \n",
    "    def _compute_log_likelihood(self, input_, class_):\n",
    "        logA = self.logAs[class_]\n",
    "        logpi = self.logpis[class_]\n",
    "        \n",
    "        last_idx = None\n",
    "        logprob = 0\n",
    "        for idx in input_:\n",
    "            if last_idx is None:\n",
    "                # its the first token \n",
    "                logprob += logpi[idx]\n",
    "            else: \n",
    "                logprob += logA[last_idx, idx]\n",
    "                \n",
    "            #update last idx\n",
    "            last_idx = idx\n",
    "        return logprob\n",
    "    \n",
    "    def predict(self, inputs):\n",
    "        predictions = np.zeros(len(inputs))\n",
    "        for i, input_ in enumerate(inputs):\n",
    "            posteriors = [self._compute_log_likelihood(input_, c) + self.logpriors[c] for c in range(self.K)] \n",
    "            pred = np.argmax(posteriors)\n",
    "            predictions[i] = pred\n",
    "        return predictions\n",
    "    "
   ]
  },
  {
   "cell_type": "code",
   "execution_count": 184,
   "id": "566fdefe-17b1-47ff-ab53-ebc4688e04bf",
   "metadata": {},
   "outputs": [],
   "source": [
    "#each array must be in order  since classes are assumed to index these lists \n",
    "clf = Classifier([logA0, logA1], [logpi0, logpi1], [logp0, logp1])"
   ]
  },
  {
   "cell_type": "code",
   "execution_count": 185,
   "id": "2704c4af-d441-4c68-9332-5c3588d15ebb",
   "metadata": {},
   "outputs": [
    {
     "name": "stdout",
     "output_type": "stream",
     "text": [
      "Train acc: 0.9629837352776219 \n"
     ]
    }
   ],
   "source": [
    "Ptrain = clf.predict(train_int)\n",
    "print(f\"Train acc: {np.mean(Ptrain == y_train)} \" )"
   ]
  },
  {
   "cell_type": "code",
   "execution_count": 186,
   "id": "155788a5-7ae0-4dae-8274-270fb7bff4fc",
   "metadata": {},
   "outputs": [
    {
     "name": "stdout",
     "output_type": "stream",
     "text": [
      "Test acc: 0.8369747899159664 \n"
     ]
    }
   ],
   "source": [
    "Ptest = clf.predict(test_int)\n",
    "print(f\"Test acc: {np.mean(Ptest == y_test)} \")"
   ]
  },
  {
   "cell_type": "code",
   "execution_count": 187,
   "id": "e23de4a3-dfeb-458f-b6e8-99ec37357b25",
   "metadata": {},
   "outputs": [
    {
     "data": {
      "text/plain": [
       "array([[408,   9],\n",
       "       [ 88,  90]], dtype=int64)"
      ]
     },
     "execution_count": 187,
     "metadata": {},
     "output_type": "execute_result"
    }
   ],
   "source": [
    "from sklearn.metrics import confusion_matrix, f1_score\n",
    "confusion_matrix(y_test, Ptest)"
   ]
  },
  {
   "cell_type": "code",
   "execution_count": 188,
   "id": "f08d1abe-f26d-48f6-be08-3e825b2b2de8",
   "metadata": {},
   "outputs": [
    {
     "data": {
      "text/plain": [
       "0.6498194945848376"
      ]
     },
     "execution_count": 188,
     "metadata": {},
     "output_type": "execute_result"
    }
   ],
   "source": [
    "f1_score(y_test, Ptest)"
   ]
  },
  {
   "cell_type": "code",
   "execution_count": null,
   "id": "bcb2a28b-a312-4be6-a94b-67865d569e6a",
   "metadata": {},
   "outputs": [],
   "source": []
  }
 ],
 "metadata": {
  "kernelspec": {
   "display_name": "Python 3",
   "language": "python",
   "name": "python3"
  },
  "language_info": {
   "codemirror_mode": {
    "name": "ipython",
    "version": 3
   },
   "file_extension": ".py",
   "mimetype": "text/x-python",
   "name": "python",
   "nbconvert_exporter": "python",
   "pygments_lexer": "ipython3",
   "version": "3.8.8"
  }
 },
 "nbformat": 4,
 "nbformat_minor": 5
}
