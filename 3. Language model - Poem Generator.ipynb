{
 "cells": [
  {
   "cell_type": "code",
   "execution_count": 29,
   "id": "94e883d4-2b00-4f4a-9c86-c201060b2de4",
   "metadata": {},
   "outputs": [],
   "source": [
    "import pandas as pd\n",
    "import numpy as np\n",
    "import matplotlib.pyplot as plt\n",
    "import seaborn as sns\n",
    "%matplotlib inline\n",
    "import string"
   ]
  },
  {
   "cell_type": "code",
   "execution_count": 30,
   "id": "b2c03881-b478-4170-86ca-7383b6921c6d",
   "metadata": {},
   "outputs": [],
   "source": [
    "#import gdown\n",
    "#!gdown https://raw.githubusercontent.com/lazyprogrammer/machine_learning_examples/master/hmm_class/edgar_allan_poe.txt\n",
    "#!gdown https://raw.githubusercontent.com/lazyprogrammer/machine_learning_examples/master/hmm_class/robert_frost.txt"
   ]
  },
  {
   "cell_type": "code",
   "execution_count": 31,
   "id": "6d0dca13-6649-48e6-bd41-949fb9a4eeb7",
   "metadata": {},
   "outputs": [],
   "source": [
    "robert_file= open('robert_frost.txt', 'r')"
   ]
  },
  {
   "cell_type": "code",
   "execution_count": 32,
   "id": "dc983923-6f49-45c0-bab7-aab013b0eec0",
   "metadata": {},
   "outputs": [],
   "source": [
    "np.random.seed(1234)"
   ]
  },
  {
   "cell_type": "code",
   "execution_count": 33,
   "id": "36063eff-96a3-4300-9062-5d1302e148bb",
   "metadata": {},
   "outputs": [],
   "source": [
    "initial = {} #start of the phrase\n",
    "first_order = {} #second word only \n",
    "second_order = {}"
   ]
  },
  {
   "cell_type": "code",
   "execution_count": 34,
   "id": "6e816ea9-f5c9-453d-b3a5-daf520e320f9",
   "metadata": {},
   "outputs": [],
   "source": [
    "def remove_punctuation(s):\n",
    "    return s.translate(str.maketrans('','',string.punctuation))"
   ]
  },
  {
   "cell_type": "code",
   "execution_count": 35,
   "id": "721e985f-b61f-4cd4-b52d-b9c81f270361",
   "metadata": {},
   "outputs": [],
   "source": [
    "def add2dict(d,k,v):\n",
    "    if k not in d:\n",
    "        d[k] = []\n",
    "    d[k].append(v)"
   ]
  },
  {
   "cell_type": "code",
   "execution_count": 36,
   "id": "5efa70f0-4cc0-4c7f-872a-2876610857c8",
   "metadata": {},
   "outputs": [],
   "source": [
    "for line in open('robert_frost.txt'):\n",
    "    tokens = remove_punctuation(line.rstrip().lower()).split()\n",
    "    \n",
    "    T = len(tokens)\n",
    "    for i in range(T):\n",
    "        t = tokens[i]\n",
    "        if i == 0:  \n",
    "            #measure the distribution of the first word\n",
    "            initial[t] = initial.get(t,0.) + 1 \n",
    "        else:\n",
    "            t_1 = tokens[i-1] \n",
    "            if i == T - 1:\n",
    "                #measure the probability of ending the line \n",
    "                add2dict(second_order, (t_1,t), 'END')\n",
    "            if i == 1:\n",
    "                #measure the distribution of second word\n",
    "                # given only the first word\n",
    "                add2dict(first_order, t_1, t)\n",
    "            else:\n",
    "                t_2 = tokens[i-2]\n",
    "                add2dict(second_order, (t_2, t_1), t)\n",
    "            \n",
    "            "
   ]
  },
  {
   "cell_type": "code",
   "execution_count": 37,
   "id": "a67afd76-4582-4ad5-ac16-7370f91a9a74",
   "metadata": {},
   "outputs": [],
   "source": [
    "# normalize the distrubutions\n",
    "initial_total  = sum(initial.values())\n",
    "for t,c in initial.items():\n",
    "    initial[t] = c/initial_total"
   ]
  },
  {
   "cell_type": "code",
   "execution_count": 38,
   "id": "aa575d6c-2dbd-40a2-8d07-396485d0cbc4",
   "metadata": {},
   "outputs": [],
   "source": [
    "# convert [cat, cat, cat, dog, dog, dog, mouse ,...]\n",
    "# into {cat: 0.5, dog: 0.4, mouse: 0.1}\n",
    "def list2pdicts(ts):\n",
    "    # turn each list of possibilities into a dictionary of probabilities\n",
    "    d = {}\n",
    "    n = len(ts)\n",
    "    for t in ts:\n",
    "        d[t] = d.get(t, 0.) + 1\n",
    "    for t, c in d.items():\n",
    "        d[t] = c/n\n",
    "    return d\n",
    "    \n"
   ]
  },
  {
   "cell_type": "code",
   "execution_count": 39,
   "id": "770604e0-e06f-47e7-a99a-2e1093a38228",
   "metadata": {},
   "outputs": [],
   "source": [
    "for t_1, ts in first_order.items():\n",
    "    # replace list with dictionary of probabilites \n",
    "    first_order[t_1] = list2pdicts(ts)"
   ]
  },
  {
   "cell_type": "code",
   "execution_count": 40,
   "id": "830136fd-886b-4608-acbc-eecb78d2bd5e",
   "metadata": {},
   "outputs": [],
   "source": [
    "for k, ts  in second_order.items():\n",
    "    second_order[k]  = list2pdicts(ts)"
   ]
  },
  {
   "cell_type": "code",
   "execution_count": 42,
   "id": "219c8f47-6ab8-4814-aadb-c516fff57c0f",
   "metadata": {},
   "outputs": [],
   "source": [
    "def sample_word(d):\n",
    "    # print \"d:\", d \n",
    "    p0 = np.random.random()\n",
    "    # print \"p0:\", p0\n",
    "    cummulative = 0\n",
    "    for t, p in d.items():\n",
    "        cummulative += p \n",
    "        if p0 < cummulative:\n",
    "            return t\n",
    "    assert(False) # should never get there"
   ]
  },
  {
   "cell_type": "code",
   "execution_count": 44,
   "id": "29cb0c5c-08ba-4166-b9b6-7a1482bbc4b6",
   "metadata": {},
   "outputs": [],
   "source": [
    "def generate():\n",
    "    for i in range(4): #generate 4 lines \n",
    "        sentence = []\n",
    "        \n",
    "        #initial word\n",
    "        w0 = sample_word(initial)\n",
    "        sentence.append(w0)\n",
    "        \n",
    "        #sample second word\n",
    "        w1 = sample_word(first_order[w0])\n",
    "        sentence.append(w1)\n",
    "        \n",
    "        # second-order transitions until END\n",
    "        while True:\n",
    "            w2 = sample_word(second_order[(w0, w1)])\n",
    "            if w2 == 'END':\n",
    "                break\n",
    "            sentence.append(w2)\n",
    "            w0 = w1\n",
    "            w1 = w2\n",
    "        print(' '.join(sentence))\n",
    "            "
   ]
  },
  {
   "cell_type": "code",
   "execution_count": 45,
   "id": "ec7a5e3a-13e9-4ab8-abf7-4183fdda1a08",
   "metadata": {},
   "outputs": [
    {
     "name": "stdout",
     "output_type": "stream",
     "text": [
      "hes nothing listen when i looked at nine the swarm was turned to rock\n",
      "as often as he chose\n",
      "and if youre lost enough to stock a village library\n",
      "though not yet all gone out of beaten ways\n"
     ]
    }
   ],
   "source": [
    "generate()"
   ]
  },
  {
   "cell_type": "code",
   "execution_count": 46,
   "id": "747fe981-a911-4a94-893f-adcd8d034ed0",
   "metadata": {},
   "outputs": [
    {
     "name": "stdout",
     "output_type": "stream",
     "text": [
      "no one on earth will ever live on it again\n",
      "with whose vast wheels\n",
      "its to say\n",
      "i know\n"
     ]
    }
   ],
   "source": [
    "generate()"
   ]
  },
  {
   "cell_type": "code",
   "execution_count": 48,
   "id": "893f2b75-da4a-4757-9c40-e03117042772",
   "metadata": {},
   "outputs": [
    {
     "name": "stdout",
     "output_type": "stream",
     "text": [
      "up to pass a winter eve\n",
      "to make them out\n",
      "and then someone\n",
      "dyou know a person so related to herself\n"
     ]
    }
   ],
   "source": [
    "generate()"
   ]
  },
  {
   "cell_type": "code",
   "execution_count": 49,
   "id": "ca8be5b0-f8bc-4b47-b221-d2031e7104cf",
   "metadata": {},
   "outputs": [
    {
     "name": "stdout",
     "output_type": "stream",
     "text": [
      "you take the polish off the ground\n",
      "no i dont follow you\n",
      "in leaves no step had trodden black\n",
      "first theres the childrens house of makebelieve\n"
     ]
    }
   ],
   "source": [
    "generate()"
   ]
  },
  {
   "cell_type": "code",
   "execution_count": null,
   "id": "df063ce0-9c05-4074-bd76-dca98c7193fa",
   "metadata": {},
   "outputs": [],
   "source": []
  }
 ],
 "metadata": {
  "kernelspec": {
   "display_name": "Python 3",
   "language": "python",
   "name": "python3"
  },
  "language_info": {
   "codemirror_mode": {
    "name": "ipython",
    "version": 3
   },
   "file_extension": ".py",
   "mimetype": "text/x-python",
   "name": "python",
   "nbconvert_exporter": "python",
   "pygments_lexer": "ipython3",
   "version": "3.8.8"
  }
 },
 "nbformat": 4,
 "nbformat_minor": 5
}
