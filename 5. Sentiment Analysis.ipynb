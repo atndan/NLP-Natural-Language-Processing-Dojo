{
 "cells": [
  {
   "cell_type": "code",
   "execution_count": 458,
   "id": "b09b6a46-e0bd-4312-95d2-587c7c72157e",
   "metadata": {},
   "outputs": [],
   "source": [
    "import pandas as pd\n",
    "import numpy as np\n",
    "import matplotlib.pyplot as plt\n",
    "import seaborn as sns\n",
    "%matplotlib inline\n",
    "import string\n",
    "from sklearn.feature_extraction.text import TfidfVectorizer\n",
    "from sklearn import metrics\n",
    "from sklearn.linear_model import LogisticRegression\n",
    "from sklearn.ensemble import RandomForestClassifier\n",
    "from sklearn.model_selection import GridSearchCV\n",
    "from nltk.corpus import stopwords\n",
    "lemmatizer = WordNetLemmatizer()"
   ]
  },
  {
   "cell_type": "code",
   "execution_count": 459,
   "id": "44eecb8e-ed20-47c1-b2ce-2cb82e767b26",
   "metadata": {},
   "outputs": [
    {
     "data": {
      "text/html": [
       "<div>\n",
       "<style scoped>\n",
       "    .dataframe tbody tr th:only-of-type {\n",
       "        vertical-align: middle;\n",
       "    }\n",
       "\n",
       "    .dataframe tbody tr th {\n",
       "        vertical-align: top;\n",
       "    }\n",
       "\n",
       "    .dataframe thead th {\n",
       "        text-align: right;\n",
       "    }\n",
       "</style>\n",
       "<table border=\"1\" class=\"dataframe\">\n",
       "  <thead>\n",
       "    <tr style=\"text-align: right;\">\n",
       "      <th></th>\n",
       "      <th>tweet_id</th>\n",
       "      <th>airline_sentiment</th>\n",
       "      <th>airline_sentiment_confidence</th>\n",
       "      <th>negativereason</th>\n",
       "      <th>negativereason_confidence</th>\n",
       "      <th>airline</th>\n",
       "      <th>airline_sentiment_gold</th>\n",
       "      <th>name</th>\n",
       "      <th>negativereason_gold</th>\n",
       "      <th>retweet_count</th>\n",
       "      <th>text</th>\n",
       "      <th>tweet_coord</th>\n",
       "      <th>tweet_created</th>\n",
       "      <th>tweet_location</th>\n",
       "      <th>user_timezone</th>\n",
       "    </tr>\n",
       "  </thead>\n",
       "  <tbody>\n",
       "    <tr>\n",
       "      <th>0</th>\n",
       "      <td>570306133677760513</td>\n",
       "      <td>neutral</td>\n",
       "      <td>1.0000</td>\n",
       "      <td>NaN</td>\n",
       "      <td>NaN</td>\n",
       "      <td>Virgin America</td>\n",
       "      <td>NaN</td>\n",
       "      <td>cairdin</td>\n",
       "      <td>NaN</td>\n",
       "      <td>0</td>\n",
       "      <td>@VirginAmerica What @dhepburn said.</td>\n",
       "      <td>NaN</td>\n",
       "      <td>2015-02-24 11:35:52 -0800</td>\n",
       "      <td>NaN</td>\n",
       "      <td>Eastern Time (US &amp; Canada)</td>\n",
       "    </tr>\n",
       "    <tr>\n",
       "      <th>1</th>\n",
       "      <td>570301130888122368</td>\n",
       "      <td>positive</td>\n",
       "      <td>0.3486</td>\n",
       "      <td>NaN</td>\n",
       "      <td>0.0000</td>\n",
       "      <td>Virgin America</td>\n",
       "      <td>NaN</td>\n",
       "      <td>jnardino</td>\n",
       "      <td>NaN</td>\n",
       "      <td>0</td>\n",
       "      <td>@VirginAmerica plus you've added commercials t...</td>\n",
       "      <td>NaN</td>\n",
       "      <td>2015-02-24 11:15:59 -0800</td>\n",
       "      <td>NaN</td>\n",
       "      <td>Pacific Time (US &amp; Canada)</td>\n",
       "    </tr>\n",
       "    <tr>\n",
       "      <th>2</th>\n",
       "      <td>570301083672813571</td>\n",
       "      <td>neutral</td>\n",
       "      <td>0.6837</td>\n",
       "      <td>NaN</td>\n",
       "      <td>NaN</td>\n",
       "      <td>Virgin America</td>\n",
       "      <td>NaN</td>\n",
       "      <td>yvonnalynn</td>\n",
       "      <td>NaN</td>\n",
       "      <td>0</td>\n",
       "      <td>@VirginAmerica I didn't today... Must mean I n...</td>\n",
       "      <td>NaN</td>\n",
       "      <td>2015-02-24 11:15:48 -0800</td>\n",
       "      <td>Lets Play</td>\n",
       "      <td>Central Time (US &amp; Canada)</td>\n",
       "    </tr>\n",
       "    <tr>\n",
       "      <th>3</th>\n",
       "      <td>570301031407624196</td>\n",
       "      <td>negative</td>\n",
       "      <td>1.0000</td>\n",
       "      <td>Bad Flight</td>\n",
       "      <td>0.7033</td>\n",
       "      <td>Virgin America</td>\n",
       "      <td>NaN</td>\n",
       "      <td>jnardino</td>\n",
       "      <td>NaN</td>\n",
       "      <td>0</td>\n",
       "      <td>@VirginAmerica it's really aggressive to blast...</td>\n",
       "      <td>NaN</td>\n",
       "      <td>2015-02-24 11:15:36 -0800</td>\n",
       "      <td>NaN</td>\n",
       "      <td>Pacific Time (US &amp; Canada)</td>\n",
       "    </tr>\n",
       "    <tr>\n",
       "      <th>4</th>\n",
       "      <td>570300817074462722</td>\n",
       "      <td>negative</td>\n",
       "      <td>1.0000</td>\n",
       "      <td>Can't Tell</td>\n",
       "      <td>1.0000</td>\n",
       "      <td>Virgin America</td>\n",
       "      <td>NaN</td>\n",
       "      <td>jnardino</td>\n",
       "      <td>NaN</td>\n",
       "      <td>0</td>\n",
       "      <td>@VirginAmerica and it's a really big bad thing...</td>\n",
       "      <td>NaN</td>\n",
       "      <td>2015-02-24 11:14:45 -0800</td>\n",
       "      <td>NaN</td>\n",
       "      <td>Pacific Time (US &amp; Canada)</td>\n",
       "    </tr>\n",
       "  </tbody>\n",
       "</table>\n",
       "</div>"
      ],
      "text/plain": [
       "             tweet_id airline_sentiment  airline_sentiment_confidence  \\\n",
       "0  570306133677760513           neutral                        1.0000   \n",
       "1  570301130888122368          positive                        0.3486   \n",
       "2  570301083672813571           neutral                        0.6837   \n",
       "3  570301031407624196          negative                        1.0000   \n",
       "4  570300817074462722          negative                        1.0000   \n",
       "\n",
       "  negativereason  negativereason_confidence         airline  \\\n",
       "0            NaN                        NaN  Virgin America   \n",
       "1            NaN                     0.0000  Virgin America   \n",
       "2            NaN                        NaN  Virgin America   \n",
       "3     Bad Flight                     0.7033  Virgin America   \n",
       "4     Can't Tell                     1.0000  Virgin America   \n",
       "\n",
       "  airline_sentiment_gold        name negativereason_gold  retweet_count  \\\n",
       "0                    NaN     cairdin                 NaN              0   \n",
       "1                    NaN    jnardino                 NaN              0   \n",
       "2                    NaN  yvonnalynn                 NaN              0   \n",
       "3                    NaN    jnardino                 NaN              0   \n",
       "4                    NaN    jnardino                 NaN              0   \n",
       "\n",
       "                                                text tweet_coord  \\\n",
       "0                @VirginAmerica What @dhepburn said.         NaN   \n",
       "1  @VirginAmerica plus you've added commercials t...         NaN   \n",
       "2  @VirginAmerica I didn't today... Must mean I n...         NaN   \n",
       "3  @VirginAmerica it's really aggressive to blast...         NaN   \n",
       "4  @VirginAmerica and it's a really big bad thing...         NaN   \n",
       "\n",
       "               tweet_created tweet_location               user_timezone  \n",
       "0  2015-02-24 11:35:52 -0800            NaN  Eastern Time (US & Canada)  \n",
       "1  2015-02-24 11:15:59 -0800            NaN  Pacific Time (US & Canada)  \n",
       "2  2015-02-24 11:15:48 -0800      Lets Play  Central Time (US & Canada)  \n",
       "3  2015-02-24 11:15:36 -0800            NaN  Pacific Time (US & Canada)  \n",
       "4  2015-02-24 11:14:45 -0800            NaN  Pacific Time (US & Canada)  "
      ]
     },
     "execution_count": 459,
     "metadata": {},
     "output_type": "execute_result"
    }
   ],
   "source": [
    "df = pd.read_csv('Tweets.csv')\n",
    "df.head()"
   ]
  },
  {
   "cell_type": "code",
   "execution_count": 460,
   "id": "5fc54ac8-4761-45ad-8f4c-609f061e38bf",
   "metadata": {},
   "outputs": [
    {
     "name": "stdout",
     "output_type": "stream",
     "text": [
      "<class 'pandas.core.frame.DataFrame'>\n",
      "RangeIndex: 14640 entries, 0 to 14639\n",
      "Data columns (total 15 columns):\n",
      " #   Column                        Non-Null Count  Dtype  \n",
      "---  ------                        --------------  -----  \n",
      " 0   tweet_id                      14640 non-null  int64  \n",
      " 1   airline_sentiment             14640 non-null  object \n",
      " 2   airline_sentiment_confidence  14640 non-null  float64\n",
      " 3   negativereason                9178 non-null   object \n",
      " 4   negativereason_confidence     10522 non-null  float64\n",
      " 5   airline                       14640 non-null  object \n",
      " 6   airline_sentiment_gold        40 non-null     object \n",
      " 7   name                          14640 non-null  object \n",
      " 8   negativereason_gold           32 non-null     object \n",
      " 9   retweet_count                 14640 non-null  int64  \n",
      " 10  text                          14640 non-null  object \n",
      " 11  tweet_coord                   1019 non-null   object \n",
      " 12  tweet_created                 14640 non-null  object \n",
      " 13  tweet_location                9907 non-null   object \n",
      " 14  user_timezone                 9820 non-null   object \n",
      "dtypes: float64(2), int64(2), object(11)\n",
      "memory usage: 1.7+ MB\n"
     ]
    }
   ],
   "source": [
    "df.info()"
   ]
  },
  {
   "cell_type": "code",
   "execution_count": 461,
   "id": "ec5ae175-8eb8-4efa-ace7-7e1682c63707",
   "metadata": {},
   "outputs": [
    {
     "data": {
      "text/plain": [
       "0                  @VirginAmerica What @dhepburn said.\n",
       "1    @VirginAmerica plus you've added commercials t...\n",
       "2    @VirginAmerica I didn't today... Must mean I n...\n",
       "3    @VirginAmerica it's really aggressive to blast...\n",
       "4    @VirginAmerica and it's a really big bad thing...\n",
       "Name: text, dtype: object"
      ]
     },
     "execution_count": 461,
     "metadata": {},
     "output_type": "execute_result"
    }
   ],
   "source": [
    "df['text'].head() #checking how text look like"
   ]
  },
  {
   "cell_type": "code",
   "execution_count": 462,
   "id": "2f0179e0-7ea1-4e29-80f2-09c1c13aea9f",
   "metadata": {},
   "outputs": [
    {
     "data": {
      "text/plain": [
       "'@VirginAmerica it\\'s really aggressive to blast obnoxious \"entertainment\" in your guests\\' faces &amp; they have little recourse'"
      ]
     },
     "execution_count": 462,
     "metadata": {},
     "output_type": "execute_result"
    }
   ],
   "source": [
    "df['text'][3]"
   ]
  },
  {
   "cell_type": "code",
   "execution_count": 463,
   "id": "91817a85-9d63-4dd1-b764-02e880da3f43",
   "metadata": {},
   "outputs": [
    {
     "data": {
      "text/html": [
       "<div>\n",
       "<style scoped>\n",
       "    .dataframe tbody tr th:only-of-type {\n",
       "        vertical-align: middle;\n",
       "    }\n",
       "\n",
       "    .dataframe tbody tr th {\n",
       "        vertical-align: top;\n",
       "    }\n",
       "\n",
       "    .dataframe thead th {\n",
       "        text-align: right;\n",
       "    }\n",
       "</style>\n",
       "<table border=\"1\" class=\"dataframe\">\n",
       "  <thead>\n",
       "    <tr style=\"text-align: right;\">\n",
       "      <th></th>\n",
       "      <th>text</th>\n",
       "      <th>airline_sentiment</th>\n",
       "    </tr>\n",
       "  </thead>\n",
       "  <tbody>\n",
       "    <tr>\n",
       "      <th>0</th>\n",
       "      <td>@VirginAmerica What @dhepburn said.</td>\n",
       "      <td>neutral</td>\n",
       "    </tr>\n",
       "    <tr>\n",
       "      <th>1</th>\n",
       "      <td>@VirginAmerica plus you've added commercials t...</td>\n",
       "      <td>positive</td>\n",
       "    </tr>\n",
       "    <tr>\n",
       "      <th>2</th>\n",
       "      <td>@VirginAmerica I didn't today... Must mean I n...</td>\n",
       "      <td>neutral</td>\n",
       "    </tr>\n",
       "    <tr>\n",
       "      <th>3</th>\n",
       "      <td>@VirginAmerica it's really aggressive to blast...</td>\n",
       "      <td>negative</td>\n",
       "    </tr>\n",
       "    <tr>\n",
       "      <th>4</th>\n",
       "      <td>@VirginAmerica and it's a really big bad thing...</td>\n",
       "      <td>negative</td>\n",
       "    </tr>\n",
       "  </tbody>\n",
       "</table>\n",
       "</div>"
      ],
      "text/plain": [
       "                                                text airline_sentiment\n",
       "0                @VirginAmerica What @dhepburn said.           neutral\n",
       "1  @VirginAmerica plus you've added commercials t...          positive\n",
       "2  @VirginAmerica I didn't today... Must mean I n...           neutral\n",
       "3  @VirginAmerica it's really aggressive to blast...          negative\n",
       "4  @VirginAmerica and it's a really big bad thing...          negative"
      ]
     },
     "execution_count": 463,
     "metadata": {},
     "output_type": "execute_result"
    }
   ],
   "source": [
    "df = df[['text', 'airline_sentiment']]\n",
    "df.head()"
   ]
  },
  {
   "cell_type": "code",
   "execution_count": 464,
   "id": "95cb1a9b-b19d-4216-bca6-24cffe0d1da9",
   "metadata": {},
   "outputs": [
    {
     "name": "stderr",
     "output_type": "stream",
     "text": [
      "C:\\Users\\e175932\\Anaconda3\\lib\\site-packages\\seaborn\\_decorators.py:36: FutureWarning: Pass the following variable as a keyword arg: x. From version 0.12, the only valid positional argument will be `data`, and passing other arguments without an explicit keyword will result in an error or misinterpretation.\n",
      "  warnings.warn(\n"
     ]
    },
    {
     "data": {
      "text/plain": [
       "<AxesSubplot:xlabel='airline_sentiment', ylabel='count'>"
      ]
     },
     "execution_count": 464,
     "metadata": {},
     "output_type": "execute_result"
    },
    {
     "data": {
      "image/png": "[encoded data removed]",
      "text/plain": [
       "<Figure size 432x288 with 1 Axes>"
      ]
     },
     "metadata": {
      "needs_background": "light"
     },
     "output_type": "display_data"
    }
   ],
   "source": [
    "sns.countplot(df['airline_sentiment'], alpha = 0.4)"
   ]
  },
  {
   "cell_type": "code",
   "execution_count": 465,
   "id": "8e24a548-892a-455b-8d5f-20fdd54e2ed2",
   "metadata": {},
   "outputs": [
    {
     "data": {
      "text/html": [
       "<div>\n",
       "<style scoped>\n",
       "    .dataframe tbody tr th:only-of-type {\n",
       "        vertical-align: middle;\n",
       "    }\n",
       "\n",
       "    .dataframe tbody tr th {\n",
       "        vertical-align: top;\n",
       "    }\n",
       "\n",
       "    .dataframe thead th {\n",
       "        text-align: right;\n",
       "    }\n",
       "</style>\n",
       "<table border=\"1\" class=\"dataframe\">\n",
       "  <thead>\n",
       "    <tr style=\"text-align: right;\">\n",
       "      <th></th>\n",
       "      <th>text</th>\n",
       "      <th>airline_sentiment</th>\n",
       "      <th>target</th>\n",
       "    </tr>\n",
       "  </thead>\n",
       "  <tbody>\n",
       "    <tr>\n",
       "      <th>0</th>\n",
       "      <td>@VirginAmerica What @dhepburn said.</td>\n",
       "      <td>neutral</td>\n",
       "      <td>1</td>\n",
       "    </tr>\n",
       "    <tr>\n",
       "      <th>1</th>\n",
       "      <td>@VirginAmerica plus you've added commercials t...</td>\n",
       "      <td>positive</td>\n",
       "      <td>2</td>\n",
       "    </tr>\n",
       "    <tr>\n",
       "      <th>2</th>\n",
       "      <td>@VirginAmerica I didn't today... Must mean I n...</td>\n",
       "      <td>neutral</td>\n",
       "      <td>1</td>\n",
       "    </tr>\n",
       "    <tr>\n",
       "      <th>3</th>\n",
       "      <td>@VirginAmerica it's really aggressive to blast...</td>\n",
       "      <td>negative</td>\n",
       "      <td>0</td>\n",
       "    </tr>\n",
       "    <tr>\n",
       "      <th>4</th>\n",
       "      <td>@VirginAmerica and it's a really big bad thing...</td>\n",
       "      <td>negative</td>\n",
       "      <td>0</td>\n",
       "    </tr>\n",
       "  </tbody>\n",
       "</table>\n",
       "</div>"
      ],
      "text/plain": [
       "                                                text airline_sentiment  target\n",
       "0                @VirginAmerica What @dhepburn said.           neutral       1\n",
       "1  @VirginAmerica plus you've added commercials t...          positive       2\n",
       "2  @VirginAmerica I didn't today... Must mean I n...           neutral       1\n",
       "3  @VirginAmerica it's really aggressive to blast...          negative       0\n",
       "4  @VirginAmerica and it's a really big bad thing...          negative       0"
      ]
     },
     "execution_count": 465,
     "metadata": {},
     "output_type": "execute_result"
    }
   ],
   "source": [
    "df['target'] = df['airline_sentiment'].apply(lambda x: 2 if x == 'positive' else 1 if x == 'neutral'else 0)\n",
    "df.head()"
   ]
  },
  {
   "cell_type": "code",
   "execution_count": 466,
   "id": "46de7188-79a0-45f1-8f07-a7042005e1b4",
   "metadata": {},
   "outputs": [],
   "source": [
    "X = df['text']\n",
    "y = df['target']\n",
    "from sklearn.model_selection import train_test_split\n",
    "df_train, df_test = train_test_split(df)"
   ]
  },
  {
   "cell_type": "code",
   "execution_count": 467,
   "id": "7334a3cb-f35d-4462-9ab6-0c261de99eca",
   "metadata": {},
   "outputs": [
    {
     "data": {
      "text/html": [
       "<div>\n",
       "<style scoped>\n",
       "    .dataframe tbody tr th:only-of-type {\n",
       "        vertical-align: middle;\n",
       "    }\n",
       "\n",
       "    .dataframe tbody tr th {\n",
       "        vertical-align: top;\n",
       "    }\n",
       "\n",
       "    .dataframe thead th {\n",
       "        text-align: right;\n",
       "    }\n",
       "</style>\n",
       "<table border=\"1\" class=\"dataframe\">\n",
       "  <thead>\n",
       "    <tr style=\"text-align: right;\">\n",
       "      <th></th>\n",
       "      <th>text</th>\n",
       "      <th>airline_sentiment</th>\n",
       "      <th>target</th>\n",
       "    </tr>\n",
       "  </thead>\n",
       "  <tbody>\n",
       "    <tr>\n",
       "      <th>10404</th>\n",
       "      <td>@USAirways you can send my luggage to my house👋</td>\n",
       "      <td>negative</td>\n",
       "      <td>0</td>\n",
       "    </tr>\n",
       "    <tr>\n",
       "      <th>8130</th>\n",
       "      <td>@JetBlue U said 15mins to Take Off and now we ...</td>\n",
       "      <td>negative</td>\n",
       "      <td>0</td>\n",
       "    </tr>\n",
       "    <tr>\n",
       "      <th>13485</th>\n",
       "      <td>@AmericanAir Its the ABC's of PR, let your cus...</td>\n",
       "      <td>negative</td>\n",
       "      <td>0</td>\n",
       "    </tr>\n",
       "    <tr>\n",
       "      <th>7780</th>\n",
       "      <td>@JetBlue great flight http://t.co/E0R0NTO4TR</td>\n",
       "      <td>positive</td>\n",
       "      <td>2</td>\n",
       "    </tr>\n",
       "    <tr>\n",
       "      <th>7783</th>\n",
       "      <td>@JetBlue I would like to send an email to Lost...</td>\n",
       "      <td>negative</td>\n",
       "      <td>0</td>\n",
       "    </tr>\n",
       "  </tbody>\n",
       "</table>\n",
       "</div>"
      ],
      "text/plain": [
       "                                                    text airline_sentiment  \\\n",
       "10404    @USAirways you can send my luggage to my house👋          negative   \n",
       "8130   @JetBlue U said 15mins to Take Off and now we ...          negative   \n",
       "13485  @AmericanAir Its the ABC's of PR, let your cus...          negative   \n",
       "7780        @JetBlue great flight http://t.co/E0R0NTO4TR          positive   \n",
       "7783   @JetBlue I would like to send an email to Lost...          negative   \n",
       "\n",
       "       target  \n",
       "10404       0  \n",
       "8130        0  \n",
       "13485       0  \n",
       "7780        2  \n",
       "7783        0  "
      ]
     },
     "execution_count": 467,
     "metadata": {},
     "output_type": "execute_result"
    }
   ],
   "source": [
    "df_train.head()"
   ]
  },
  {
   "cell_type": "code",
   "execution_count": 468,
   "id": "2be3cdb5-c8f9-4c43-b643-18fe69b5a049",
   "metadata": {},
   "outputs": [
    {
     "data": {
      "text/plain": [
       "(10980, 3)"
      ]
     },
     "execution_count": 468,
     "metadata": {},
     "output_type": "execute_result"
    }
   ],
   "source": [
    "df_train.shape"
   ]
  },
  {
   "cell_type": "markdown",
   "id": "aa2ff5d5-ddf3-42d3-a986-4df843bc6f8b",
   "metadata": {},
   "source": [
    "### 1. Fitting model with TF-IDF only"
   ]
  },
  {
   "cell_type": "markdown",
   "id": "5fb15cb6-587d-4209-a281-4e6a6e3bfec9",
   "metadata": {},
   "source": [
    "**Logistic Regression**"
   ]
  },
  {
   "cell_type": "code",
   "execution_count": 469,
   "id": "efecb8e8-b027-4f29-abce-2be429348f38",
   "metadata": {},
   "outputs": [
    {
     "data": {
      "text/plain": [
       "(10980, 12667)"
      ]
     },
     "execution_count": 469,
     "metadata": {},
     "output_type": "execute_result"
    }
   ],
   "source": [
    "from sklearn.feature_extraction.text import CountVectorizer\n",
    "vectorize1 = TfidfVectorizer()\n",
    "X_train = vectorize1.fit_transform(df_train['text'])\n",
    "X_train.shape"
   ]
  },
  {
   "cell_type": "code",
   "execution_count": 470,
   "id": "150d345d-931e-4a99-8e81-9d5167104f56",
   "metadata": {},
   "outputs": [],
   "source": [
    "X_test = vectorize1.transform(df_test['text'])\n",
    "y_train = df_train['target']\n",
    "y_test = df_test['target']"
   ]
  },
  {
   "cell_type": "code",
   "execution_count": 471,
   "id": "a982ead3-0d22-4617-87d9-9f76ce558c2f",
   "metadata": {},
   "outputs": [],
   "source": [
    "glm = LogisticRegression(max_iter=500)\n",
    "glm.fit(X_train, y_train)\n",
    "pred1 = glm.predict_proba(X_test)\n"
   ]
  },
  {
   "cell_type": "code",
   "execution_count": 472,
   "id": "85620405-0d11-402d-b91d-5b5ffacc928a",
   "metadata": {},
   "outputs": [
    {
     "name": "stdout",
     "output_type": "stream",
     "text": [
      "0.7980874316939891\n"
     ]
    }
   ],
   "source": [
    "print(glm.score(X_test, y_test))"
   ]
  },
  {
   "cell_type": "code",
   "execution_count": 473,
   "id": "4938f936-115b-4026-919a-83cae681fa99",
   "metadata": {},
   "outputs": [
    {
     "data": {
      "text/plain": [
       "array([[0.94573304, 0.04113786, 0.0131291 ],\n",
       "       [0.41898734, 0.50632911, 0.07468354],\n",
       "       [0.26495726, 0.11965812, 0.61538462]])"
      ]
     },
     "execution_count": 473,
     "metadata": {},
     "output_type": "execute_result"
    }
   ],
   "source": [
    "p_pred1 = glm.predict(X_test)\n",
    "cm1 = metrics.confusion_matrix(y_test, p_pred1, normalize='true')\n",
    "cm1"
   ]
  },
  {
   "cell_type": "code",
   "execution_count": 474,
   "id": "12d0b71a-405e-40a0-bd47-4e4aa2664de0",
   "metadata": {},
   "outputs": [
    {
     "name": "stdout",
     "output_type": "stream",
     "text": [
      "AUC:  0.8927651457491083\n"
     ]
    }
   ],
   "source": [
    "print(\"AUC: \", metrics.roc_auc_score(y_test, pred1, multi_class='ovo'))"
   ]
  },
  {
   "cell_type": "code",
   "execution_count": 475,
   "id": "017adbf7-6053-48ee-9612-5cdc7703b1b3",
   "metadata": {},
   "outputs": [
    {
     "name": "stdout",
     "output_type": "stream",
     "text": [
      "              precision    recall  f1-score   support\n",
      "\n",
      "           0       0.82      0.95      0.88      2285\n",
      "           1       0.71      0.51      0.59       790\n",
      "           2       0.80      0.62      0.70       585\n",
      "\n",
      "    accuracy                           0.80      3660\n",
      "   macro avg       0.78      0.69      0.72      3660\n",
      "weighted avg       0.79      0.80      0.79      3660\n",
      "\n"
     ]
    }
   ],
   "source": [
    "print(metrics.classification_report(y_test, p_pred1))"
   ]
  },
  {
   "cell_type": "code",
   "execution_count": 476,
   "id": "87331bcc-cd44-4a07-b557-8ae99026743b",
   "metadata": {},
   "outputs": [
    {
     "name": "stdout",
     "output_type": "stream",
     "text": [
      "(3660, 3) (3660,)\n"
     ]
    }
   ],
   "source": [
    "print(pred1.shape, p_pred1.shape)"
   ]
  },
  {
   "cell_type": "code",
   "execution_count": 477,
   "id": "fe50a06f-3002-4970-ba4f-fb5278ab2d73",
   "metadata": {},
   "outputs": [
    {
     "data": {
      "text/plain": [
       "<sklearn.metrics._plot.confusion_matrix.ConfusionMatrixDisplay at 0x1412bb245b0>"
      ]
     },
     "execution_count": 477,
     "metadata": {},
     "output_type": "execute_result"
    },
    {
     "data": {
      "image/png": "[encoded data removed]",
      "text/plain": [
       "<Figure size 432x288 with 2 Axes>"
      ]
     },
     "metadata": {
      "needs_background": "light"
     },
     "output_type": "display_data"
    }
   ],
   "source": [
    "metrics.plot_confusion_matrix(glm, X_test, y_test, normalize= 'true', cmap='Blues' )  "
   ]
  },
  {
   "cell_type": "markdown",
   "id": "e5597246-423b-487e-b527-52da110f2a1b",
   "metadata": {},
   "source": [
    "### 2. Fitting Model with Punctuation Remove, Stopword Remove, Lemmatization"
   ]
  },
  {
   "cell_type": "code",
   "execution_count": 440,
   "id": "c0e6ea24-a391-4212-81df-8383caf90b3c",
   "metadata": {},
   "outputs": [],
   "source": [
    "import nltk\n",
    "from nltk.stem import WordNetLemmatizer"
   ]
  },
  {
   "cell_type": "code",
   "execution_count": 441,
   "id": "a7bd17eb-f843-45c2-89e8-43e2652a34bd",
   "metadata": {},
   "outputs": [
    {
     "name": "stderr",
     "output_type": "stream",
     "text": [
      "[nltk_data] Downloading package stopwords to\n",
      "[nltk_data]     C:\\Users\\e175932\\AppData\\Roaming\\nltk_data...\n",
      "[nltk_data]   Package stopwords is already up-to-date!\n",
      "[nltk_data] Downloading package wordnet to\n",
      "[nltk_data]     C:\\Users\\e175932\\AppData\\Roaming\\nltk_data...\n",
      "[nltk_data]   Package wordnet is already up-to-date!\n"
     ]
    },
    {
     "data": {
      "text/plain": [
       "True"
      ]
     },
     "execution_count": 441,
     "metadata": {},
     "output_type": "execute_result"
    }
   ],
   "source": [
    "nltk.download('stopwords')\n",
    "nltk.download('wordnet')"
   ]
  },
  {
   "cell_type": "code",
   "execution_count": 442,
   "id": "4b5711d0-10f8-446a-8e14-dc843b31646b",
   "metadata": {},
   "outputs": [],
   "source": [
    "def text_analyze(mess):\n",
    "#     1. Remove all punctuation\n",
    "        punc_remove = [char for char in mess if char not in string.punctuation ]\n",
    "        nopunc = \"\".join(punc_remove)\n",
    "        \n",
    "#     2. Remove all stopwords\n",
    "        sw_remove = [word for word in nopunc.split() if word.lower() not in stopwords.words('english')]\n",
    "        \n",
    "        #3. lemmatize\n",
    "        return  \" \".join([lemmatizer.lemmatize(w) for w in sw_remove])\n",
    "        "
   ]
  },
  {
   "cell_type": "code",
   "execution_count": 443,
   "id": "bd9a2a7a-fb83-4bb7-8a65-6ed39b63f68e",
   "metadata": {},
   "outputs": [
    {
     "data": {
      "text/plain": [
       "'say something im giving sorry couldnt get'"
      ]
     },
     "execution_count": 443,
     "metadata": {},
     "output_type": "execute_result"
    }
   ],
   "source": [
    "# #test text_analyzie\n",
    "string1 = \"say something i'm giving up on you, sorry, that I couldn't get to you\"\n",
    "text_analyze(string1)"
   ]
  },
  {
   "cell_type": "code",
   "execution_count": 444,
   "id": "f49a2ad1-836f-4f02-bc9d-de1a9dcb6261",
   "metadata": {},
   "outputs": [],
   "source": [
    "d_train = df_train['text'].apply(text_analyze)\n",
    "d_test =  df_test['text'].apply(text_analyze)"
   ]
  },
  {
   "cell_type": "code",
   "execution_count": 445,
   "id": "df18ca80-0a2e-4b6a-b0d4-99cb838e68d7",
   "metadata": {},
   "outputs": [],
   "source": [
    "vectorize =  TfidfVectorizer()\n",
    "X_train = vectorize.fit_transform(d_train)\n",
    "X_test = vectorize.transform(d_test)"
   ]
  },
  {
   "cell_type": "code",
   "execution_count": 446,
   "id": "feb2bfc4-7d57-440b-bb39-a7149149bb29",
   "metadata": {},
   "outputs": [
    {
     "name": "stdout",
     "output_type": "stream",
     "text": [
      "0.7904371584699453\n"
     ]
    }
   ],
   "source": [
    "glm2 = LogisticRegression(max_iter=500)\n",
    "glm2.fit(X_train, y_train)\n",
    "pred1 = glm2.predict_proba(X_test)\n",
    "print(glm2.score(X_test, y_test))"
   ]
  },
  {
   "cell_type": "code",
   "execution_count": 447,
   "id": "ac56d5b8-d695-4e26-bbe0-8bc6b0491079",
   "metadata": {},
   "outputs": [
    {
     "name": "stdout",
     "output_type": "stream",
     "text": [
      "AUC:  0.8902371096208651\n",
      "              precision    recall  f1-score   support\n",
      "\n",
      "           0       0.82      0.93      0.87      2286\n",
      "           1       0.68      0.51      0.58       785\n",
      "           2       0.78      0.61      0.68       589\n",
      "\n",
      "    accuracy                           0.79      3660\n",
      "   macro avg       0.76      0.68      0.71      3660\n",
      "weighted avg       0.78      0.79      0.78      3660\n",
      "\n"
     ]
    }
   ],
   "source": [
    "pred2 = glm2.predict(X_test)\n",
    "p_pred2 = glm2.predict_proba(X_test)\n",
    "print(\"AUC: \", metrics.roc_auc_score(y_test, p_pred2, multi_class='ovo'))\n",
    "print(metrics.classification_report(y_test, pred2))"
   ]
  },
  {
   "cell_type": "code",
   "execution_count": 448,
   "id": "eb77fda4-a36c-4af2-95d1-92959936ee32",
   "metadata": {},
   "outputs": [
    {
     "data": {
      "text/plain": [
       "<sklearn.metrics._plot.confusion_matrix.ConfusionMatrixDisplay at 0x1412ddb6b20>"
      ]
     },
     "execution_count": 448,
     "metadata": {},
     "output_type": "execute_result"
    },
    {
     "data": {
      "image/png": "[encoded data removed]",
      "text/plain": [
       "<Figure size 432x288 with 2 Axes>"
      ]
     },
     "metadata": {
      "needs_background": "light"
     },
     "output_type": "display_data"
    }
   ],
   "source": [
    "metrics.plot_confusion_matrix(glm2, X_test, y_test, normalize= 'true', cmap='Blues' )  "
   ]
  },
  {
   "cell_type": "markdown",
   "id": "4602f0f3-603f-4ed4-bbcb-8e2ce3a8bfc6",
   "metadata": {},
   "source": [
    "***The performance of the model did not improve after applying Punctuation Remove, Stopword Remove, Lemmatization and TF-IDF. Thees methods do not help in this case.***"
   ]
  },
  {
   "cell_type": "markdown",
   "id": "7bf55fc9-0ae7-424c-8316-29910a5f1a90",
   "metadata": {},
   "source": [
    "### 3. Fitting model with RandomForest and XGBOOST"
   ]
  },
  {
   "cell_type": "markdown",
   "id": "eebd3eb6-bd4c-43a8-9fdb-8eb8af6a86b2",
   "metadata": {},
   "source": [
    "**Random Forest**"
   ]
  },
  {
   "cell_type": "code",
   "execution_count": 449,
   "id": "4a392652-c08e-4b0b-8cad-30b598eaf0eb",
   "metadata": {},
   "outputs": [
    {
     "name": "stdout",
     "output_type": "stream",
     "text": [
      "0.7543715846994535\n"
     ]
    }
   ],
   "source": [
    "vectorize = TfidfVectorizer()\n",
    "X_train = vectorize.fit_transform(df_train['text'])\n",
    "X_test = vectorize.transform(df_test['text'])\n",
    "rf = RandomForestClassifier( )\n",
    "rf.fit(X_train,y_train)\n",
    "print(rf.score(X_test, y_test))"
   ]
  },
  {
   "cell_type": "code",
   "execution_count": 450,
   "id": "c0e5d678-7152-4250-bbcf-604d7921357b",
   "metadata": {},
   "outputs": [
    {
     "name": "stdout",
     "output_type": "stream",
     "text": [
      "AUC:  0.857986826020709\n",
      "              precision    recall  f1-score   support\n",
      "\n",
      "           0       0.75      0.97      0.85      2286\n",
      "           1       0.71      0.39      0.50       785\n",
      "           2       0.82      0.42      0.55       589\n",
      "\n",
      "    accuracy                           0.75      3660\n",
      "   macro avg       0.76      0.59      0.64      3660\n",
      "weighted avg       0.75      0.75      0.73      3660\n",
      "\n"
     ]
    }
   ],
   "source": [
    "pred3 = rf.predict(X_test)\n",
    "p_pred3 = rf.predict_proba(X_test)\n",
    "print(\"AUC: \", metrics.roc_auc_score(y_test, p_pred3, multi_class='ovo'))\n",
    "print(metrics.classification_report(y_test, pred3))"
   ]
  },
  {
   "cell_type": "code",
   "execution_count": 451,
   "id": "af0897ac-e134-4a21-a6d2-49085570edc4",
   "metadata": {},
   "outputs": [
    {
     "data": {
      "text/plain": [
       "<sklearn.metrics._plot.confusion_matrix.ConfusionMatrixDisplay at 0x1412f7fd280>"
      ]
     },
     "execution_count": 451,
     "metadata": {},
     "output_type": "execute_result"
    },
    {
     "data": {
      "image/png": "[encoded data removed]",
      "text/plain": [
       "<Figure size 432x288 with 2 Axes>"
      ]
     },
     "metadata": {
      "needs_background": "light"
     },
     "output_type": "display_data"
    }
   ],
   "source": [
    "metrics.plot_confusion_matrix(rf, X_test, y_test, normalize= 'true', cmap='Blues' )  "
   ]
  },
  {
   "cell_type": "markdown",
   "id": "7ae7c66e-8b61-4ad0-af63-87d8e468b247",
   "metadata": {},
   "source": [
    "**Xgboost**"
   ]
  },
  {
   "cell_type": "code",
   "execution_count": 452,
   "id": "361b2497-8c47-4d97-92d2-328a9386e1b3",
   "metadata": {},
   "outputs": [],
   "source": [
    "import xgboost as xgb\n",
    "from sklearn.model_selection import RandomizedSearchCV\n",
    "from sklearn.model_selection import RepeatedStratifiedKFold\n",
    "from sklearn.metrics import mean_squared_error\n",
    "\n",
    "    \n",
    "clf = xgb.XGBClassifier(\n",
    "    n_jobs = 1,\n",
    "    objective = 'multi:softmax',\n",
    "    silent=1,\n",
    "    tree_method='approx'\n",
    ")   "
   ]
  },
  {
   "cell_type": "code",
   "execution_count": 453,
   "id": "901eb857-7f85-4cd2-8e27-d362d142e6a0",
   "metadata": {},
   "outputs": [
    {
     "name": "stdout",
     "output_type": "stream",
     "text": [
      "[12:38:48] WARNING: C:/Users/Administrator/workspace/xgboost-win64_release_1.6.0/src/learner.cc:627: \n",
      "Parameters: { \"silent\" } might not be used.\n",
      "\n",
      "  This could be a false alarm, with some parameters getting used by language bindings but\n",
      "  then being mistakenly passed down to XGBoost core, or some parameter actually being used\n",
      "  but getting flagged wrongly here. Please open an issue if you find any such cases.\n",
      "\n",
      "\n"
     ]
    },
    {
     "data": {
      "text/plain": [
       "XGBClassifier(base_score=0.5, booster='gbtree', callbacks=None,\n",
       "              colsample_bylevel=1, colsample_bynode=1, colsample_bytree=1,\n",
       "              early_stopping_rounds=None, enable_categorical=False,\n",
       "              eval_metric=None, gamma=0, gpu_id=-1, grow_policy='depthwise',\n",
       "              importance_type=None, interaction_constraints='',\n",
       "              learning_rate=0.300000012, max_bin=256, max_cat_to_onehot=4,\n",
       "              max_delta_step=0, max_depth=6, max_leaves=0, min_child_weight=1,\n",
       "              missing=nan, monotone_constraints='()', n_estimators=100,\n",
       "              n_jobs=1, num_parallel_tree=1, objective='multi:softmax',\n",
       "              predictor='auto', random_state=0, reg_alpha=0, ...)"
      ]
     },
     "execution_count": 453,
     "metadata": {},
     "output_type": "execute_result"
    }
   ],
   "source": [
    "clf.fit(X_train, y_train)"
   ]
  },
  {
   "cell_type": "code",
   "execution_count": 454,
   "id": "30dbd16b-ef67-41a0-8392-33de1ff8a853",
   "metadata": {},
   "outputs": [
    {
     "name": "stdout",
     "output_type": "stream",
     "text": [
      "              precision    recall  f1-score   support\n",
      "\n",
      "           0       0.83      0.92      0.87      2286\n",
      "           1       0.67      0.56      0.61       785\n",
      "           2       0.78      0.63      0.70       589\n",
      "\n",
      "    accuracy                           0.79      3660\n",
      "   macro avg       0.76      0.70      0.73      3660\n",
      "weighted avg       0.79      0.79      0.79      3660\n",
      "\n"
     ]
    }
   ],
   "source": [
    "pred4 = clf.predict(X_test)\n",
    "#p_pred4 =clf.predict_proba(X_test)\n",
    "#print(\"AUC: \", metrics.roc_auc_score(y_test, p_pred4, multi_class='ovo'))\n",
    "print(metrics.classification_report(y_test, pred4))"
   ]
  },
  {
   "cell_type": "code",
   "execution_count": 455,
   "id": "3ef6b07a-3519-465c-baad-663955d1d3ab",
   "metadata": {},
   "outputs": [
    {
     "data": {
      "text/plain": [
       "<sklearn.metrics._plot.confusion_matrix.ConfusionMatrixDisplay at 0x1412bad3ca0>"
      ]
     },
     "execution_count": 455,
     "metadata": {},
     "output_type": "execute_result"
    },
    {
     "data": {
      "image/png": "[encoded data removed]",
      "text/plain": [
       "<Figure size 432x288 with 2 Axes>"
      ]
     },
     "metadata": {
      "needs_background": "light"
     },
     "output_type": "display_data"
    }
   ],
   "source": [
    "metrics.plot_confusion_matrix(clf, X_test, y_test, normalize= 'true', cmap='Blues' )  "
   ]
  },
  {
   "cell_type": "markdown",
   "id": "1f18cef5-049b-4795-892b-c9e48baba90f",
   "metadata": {},
   "source": [
    "### Play with result"
   ]
  },
  {
   "cell_type": "code",
   "execution_count": 488,
   "id": "91e5e2ac-7546-4248-9f44-d508d33ad68a",
   "metadata": {},
   "outputs": [],
   "source": [
    "decode_map = {0: \"NEGATIVE\", 1: \"NEUTRAL\", 2: \"POSITIVE\"}\n",
    "def decode_sentiment(label):\n",
    "    return decode_map[int(label)]\n",
    "\n",
    "def predict_text(text):\n",
    "    text = [text]\n",
    "    # Tokenize text\n",
    "    x_test = vectorize1.transform(text)\n",
    "    # Predict\n",
    "    score = glm.predict(x_test)\n",
    "    # Decode sentiment\n",
    "    label = decode_sentiment(score)\n",
    "    return {\"label\": label}  "
   ]
  },
  {
   "cell_type": "code",
   "execution_count": 489,
   "id": "686ebc47-d30c-4315-950b-2b0de60b18d3",
   "metadata": {},
   "outputs": [
    {
     "data": {
      "text/plain": [
       "{'label': 'POSITIVE'}"
      ]
     },
     "execution_count": 489,
     "metadata": {},
     "output_type": "execute_result"
    }
   ],
   "source": [
    "predict_text(\"I love the music\")"
   ]
  },
  {
   "cell_type": "code",
   "execution_count": 490,
   "id": "30855efb-dd35-4530-b29b-0fc6caac6b13",
   "metadata": {},
   "outputs": [
    {
     "data": {
      "text/plain": [
       "{'label': 'NEGATIVE'}"
      ]
     },
     "execution_count": 490,
     "metadata": {},
     "output_type": "execute_result"
    }
   ],
   "source": [
    "predict_text(\"I hate waiting\")"
   ]
  },
  {
   "cell_type": "code",
   "execution_count": 491,
   "id": "c77792b2-df5a-449b-bb4c-867d4dd16611",
   "metadata": {},
   "outputs": [
    {
     "data": {
      "text/plain": [
       "{'label': 'NEGATIVE'}"
      ]
     },
     "execution_count": 491,
     "metadata": {},
     "output_type": "execute_result"
    }
   ],
   "source": [
    "predict_text(\"just give me a reason just a little bit enough\")"
   ]
  }
 ],
 "metadata": {
  "kernelspec": {
   "display_name": "Python 3",
   "language": "python",
   "name": "python3"
  },
  "language_info": {
   "codemirror_mode": {
    "name": "ipython",
    "version": 3
   },
   "file_extension": ".py",
   "mimetype": "text/x-python",
   "name": "python",
   "nbconvert_exporter": "python",
   "pygments_lexer": "ipython3",
   "version": "3.8.8"
  }
 },
 "nbformat": 4,
 "nbformat_minor": 5
}
