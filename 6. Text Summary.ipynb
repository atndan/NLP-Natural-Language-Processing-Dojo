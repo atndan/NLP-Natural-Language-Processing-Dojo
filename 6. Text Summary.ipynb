{
 "cells": [
  {
   "cell_type": "code",
   "execution_count": 156,
   "id": "a671b547-e91f-4c1d-b0ff-17cb83dfd250",
   "metadata": {},
   "outputs": [],
   "source": [
    "import pandas as pd\n",
    "import numpy as np\n",
    "import os\n",
    "import matplotlib.pyplot as plt\n",
    "import seaborn as sns\n",
    "%matplotlib inline\n",
    "import nltk "
   ]
  },
  {
   "cell_type": "code",
   "execution_count": 157,
   "id": "b98fccf3-a5f1-4018-895c-d97d2fc6d1be",
   "metadata": {},
   "outputs": [],
   "source": [
    "import textwrap\n",
    "def wrap(x):\n",
    "    return textwrap.fill(x, replace_whitespace=False, fix_sentence_endings=True)"
   ]
  },
  {
   "cell_type": "code",
   "execution_count": 158,
   "id": "37d5a684-39f3-4549-b5c3-3aad39eca657",
   "metadata": {},
   "outputs": [],
   "source": [
    "text = []\n",
    "label = []\n",
    "for dirname, _ , filenames in os.walk('bbc'):\n",
    "    try:\n",
    "        filenames.remove('README.TXT')\n",
    "    except:\n",
    "        pass\n",
    "    for filename in filenames:\n",
    "          if filename.endswith(\".txt\"):\n",
    "                label.append(dirname.split(\"\\\\\")[-1])\n",
    "                fullpathfile = os.path.join(dirname,filename)\n",
    "                with open(fullpathfile, 'r', encoding=\"utf8\", errors='ignore') as infile:\n",
    "                    intext = ''\n",
    "                    for line in infile:\n",
    "                        intext = intext + ' ' + line\n",
    "                    text.append(intext)"
   ]
  },
  {
   "cell_type": "code",
   "execution_count": 159,
   "id": "69098f48-2e6d-4b55-87ca-36a3925f8583",
   "metadata": {},
   "outputs": [
    {
     "data": {
      "text/html": [
       "<div>\n",
       "<style scoped>\n",
       "    .dataframe tbody tr th:only-of-type {\n",
       "        vertical-align: middle;\n",
       "    }\n",
       "\n",
       "    .dataframe tbody tr th {\n",
       "        vertical-align: top;\n",
       "    }\n",
       "\n",
       "    .dataframe thead th {\n",
       "        text-align: right;\n",
       "    }\n",
       "</style>\n",
       "<table border=\"1\" class=\"dataframe\">\n",
       "  <thead>\n",
       "    <tr style=\"text-align: right;\">\n",
       "      <th></th>\n",
       "      <th>text</th>\n",
       "      <th>label</th>\n",
       "    </tr>\n",
       "  </thead>\n",
       "  <tbody>\n",
       "    <tr>\n",
       "      <th>0</th>\n",
       "      <td>Ad sales boost Time Warner profit\\n \\n Quarte...</td>\n",
       "      <td>business</td>\n",
       "    </tr>\n",
       "    <tr>\n",
       "      <th>1</th>\n",
       "      <td>Dollar gains on Greenspan speech\\n \\n The dol...</td>\n",
       "      <td>business</td>\n",
       "    </tr>\n",
       "    <tr>\n",
       "      <th>2</th>\n",
       "      <td>Yukos unit buyer faces loan claim\\n \\n The ow...</td>\n",
       "      <td>business</td>\n",
       "    </tr>\n",
       "    <tr>\n",
       "      <th>3</th>\n",
       "      <td>High fuel prices hit BA's profits\\n \\n Britis...</td>\n",
       "      <td>business</td>\n",
       "    </tr>\n",
       "    <tr>\n",
       "      <th>4</th>\n",
       "      <td>Pernod takeover talk lifts Domecq\\n \\n Shares...</td>\n",
       "      <td>business</td>\n",
       "    </tr>\n",
       "  </tbody>\n",
       "</table>\n",
       "</div>"
      ],
      "text/plain": [
       "                                                text     label\n",
       "0   Ad sales boost Time Warner profit\\n \\n Quarte...  business\n",
       "1   Dollar gains on Greenspan speech\\n \\n The dol...  business\n",
       "2   Yukos unit buyer faces loan claim\\n \\n The ow...  business\n",
       "3   High fuel prices hit BA's profits\\n \\n Britis...  business\n",
       "4   Pernod takeover talk lifts Domecq\\n \\n Shares...  business"
      ]
     },
     "execution_count": 159,
     "metadata": {},
     "output_type": "execute_result"
    }
   ],
   "source": [
    "df = pd.DataFrame(list(zip(text, label)), \n",
    "               columns =['text', 'label'])\n",
    "df.head()"
   ]
  },
  {
   "cell_type": "code",
   "execution_count": 160,
   "id": "9643bedb-1d6a-4b43-9a9a-686ca0ed2b72",
   "metadata": {},
   "outputs": [
    {
     "data": {
      "text/plain": [
       "sport            511\n",
       "business         510\n",
       "politics         417\n",
       "tech             401\n",
       "entertainment    386\n",
       "Name: label, dtype: int64"
      ]
     },
     "execution_count": 160,
     "metadata": {},
     "output_type": "execute_result"
    }
   ],
   "source": [
    "df.label.value_counts()"
   ]
  },
  {
   "cell_type": "code",
   "execution_count": 161,
   "id": "366e9bae-3469-4e8a-8bfa-b819c0ced70a",
   "metadata": {},
   "outputs": [
    {
     "data": {
      "text/plain": [
       "1824     Ink helps drive democracy in Asia\\n \\n The Ky...\n",
       "1825     China net cafe culture crackdown\\n \\n Chinese...\n",
       "1826     Microsoft seeking spyware trojan\\n \\n Microso...\n",
       "1827     Digital guru floats sub-$100 PC\\n \\n Nicholas...\n",
       "1828     Technology gets the creative bug\\n \\n The hi-...\n",
       "Name: text, dtype: object"
      ]
     },
     "execution_count": 161,
     "metadata": {},
     "output_type": "execute_result"
    }
   ],
   "source": [
    "tech = df[df['label'] == 'tech']['text']\n",
    "tech.head()"
   ]
  },
  {
   "cell_type": "markdown",
   "id": "f8fe2986-ac42-4d0d-9da0-b4a898ab6e4b",
   "metadata": {},
   "source": [
    "**Test on one text**"
   ]
  },
  {
   "cell_type": "code",
   "execution_count": 162,
   "id": "e09c6933-7761-4bf8-8823-9492f070752f",
   "metadata": {},
   "outputs": [
    {
     "name": "stdout",
     "output_type": "stream",
     "text": [
      " Microsoft seeking spyware trojan\n",
      " \n",
      " Microsoft is investigating a\n",
      "trojan program that attempts to switch off the firm's anti-spyware\n",
      "software.\n",
      " \n",
      " The spyware tool was only released by Microsoft in the\n",
      "last few weeks and has been downloaded by six million people.  Stephen\n",
      "Toulouse, a security manager at Microsoft, said the malicious program\n",
      "was called Bankash-A Trojan and was being sent as an e-mail\n",
      "attachment.  Microsoft said it did not believe the program was\n",
      "widespread and recommended users to use an anti-virus program.  The\n",
      "program attempts to disable or delete Microsoft's anti-spyware tool\n",
      "and suppress warning messages given to users.\n",
      " \n",
      " It may also try to\n",
      "steal online banking passwords or other personal information by\n",
      "tracking users' keystrokes.\n",
      " \n",
      " Microsoft said in a statement it is\n",
      "investigating what it called a criminal attack on its software.\n",
      "Earlier this week, Microsoft said it would buy anti-virus software\n",
      "maker Sybari Software to improve its security in its Windows and\n",
      "e-mail software.  Microsoft has said it plans to offer its own paid-\n",
      "for anti-virus software but it has not yet set a date for its release.\n",
      "The anti-spyware program being targeted is currently only in beta form\n",
      "and aims to help users find and remove spyware - programs which\n",
      "monitor internet use, causes advert pop-ups and slow a PC's\n",
      "performance.\n"
     ]
    }
   ],
   "source": [
    "print(wrap(tech.iloc[2]))"
   ]
  },
  {
   "cell_type": "code",
   "execution_count": 163,
   "id": "aac172ea-9404-481e-95f2-9b987419ca44",
   "metadata": {},
   "outputs": [
    {
     "name": "stdout",
     "output_type": "stream",
     "text": [
      "[\" \\n Microsoft is investigating a trojan program that attempts to switch off the firm's anti-spyware software.\", 'The spyware tool was only released by Microsoft in the last few weeks and has been downloaded by six million people.', 'Stephen Toulouse, a security manager at Microsoft, said the malicious program was called Bankash-A Trojan and was being sent as an e-mail attachment.', 'Microsoft said it did not believe the program was widespread and recommended users to use an anti-virus program.', \"The program attempts to disable or delete Microsoft's anti-spyware tool and suppress warning messages given to users.\", \"It may also try to steal online banking passwords or other personal information by tracking users' keystrokes.\", 'Microsoft said in a statement it is investigating what it called a criminal attack on its software.', 'Earlier this week, Microsoft said it would buy anti-virus software maker Sybari Software to improve its security in its Windows and e-mail software.', 'Microsoft has said it plans to offer its own paid-for anti-virus software but it has not yet set a date for its release.', \"The anti-spyware program being targeted is currently only in beta form and aims to help users find and remove spyware - programs which monitor internet use, causes advert pop-ups and slow a PC's performance.\"]\n"
     ]
    }
   ],
   "source": [
    "#tokenize to sentences\n",
    "sents = nltk.sent_tokenize(tech.iloc[2].split(\"\\n\",1)[1])\n",
    "print(sent_sample)"
   ]
  },
  {
   "cell_type": "code",
   "execution_count": 164,
   "id": "d8317ea3-3656-4006-a2de-2a46755447ed",
   "metadata": {},
   "outputs": [
    {
     "name": "stderr",
     "output_type": "stream",
     "text": [
      "[nltk_data] Downloading package punkt to\n",
      "[nltk_data]     C:\\Users\\e175932\\AppData\\Roaming\\nltk_data...\n",
      "[nltk_data]   Package punkt is already up-to-date!\n",
      "[nltk_data] Downloading package stopwords to\n",
      "[nltk_data]     C:\\Users\\e175932\\AppData\\Roaming\\nltk_data...\n",
      "[nltk_data]   Package stopwords is already up-to-date!\n"
     ]
    }
   ],
   "source": [
    "nltk.download('punkt')\n",
    "nltk.download('stopwords')\n",
    "from nltk.corpus import stopwords\n",
    "from sklearn.feature_extraction.text import TfidfVectorizer\n",
    "vectorize = TfidfVectorizer(stop_words=stopwords.words('english'),\n",
    "                           norm='l1') #l1 is for not be bias by the long text"
   ]
  },
  {
   "cell_type": "code",
   "execution_count": 165,
   "id": "6e76ce71-9c44-4282-812d-3e441e509090",
   "metadata": {},
   "outputs": [],
   "source": [
    "X = vectorize.fit_transform(sents)\n",
    "\n",
    "#calculate scores for the ranking\n",
    "def get_sentence_score(tfidf_vec):\n",
    "    x = tfidf_vec[tfidf_vec != 0 ]  #only count the word appear more than 1\n",
    "    return x.mean()\n",
    "scores = np.zeros(len(sents))\n",
    "for i in range(len(sents)):\n",
    "        score = get_sentence_score(X[i,:])\n",
    "        scores[i] = score\n"
   ]
  },
  {
   "cell_type": "code",
   "execution_count": 166,
   "id": "c64c90b3-c2b0-4766-9fb8-060841a4f037",
   "metadata": {},
   "outputs": [],
   "source": [
    "sort_idx = np.argsort(-scores) #the argsort return the index, -scores for the descending order"
   ]
  },
  {
   "cell_type": "code",
   "execution_count": 167,
   "id": "d3fbb52b-73e3-4708-8819-2f69c57c265a",
   "metadata": {},
   "outputs": [
    {
     "name": "stdout",
     "output_type": "stream",
     "text": [
      "0.12: Microsoft said in a statement it is investigating what it called\n",
      "a criminal attack on its software.\n",
      "0.10:  \n",
      " Microsoft is investigating a trojan program that attempts to\n",
      "switch off the firm's anti-spyware software.\n",
      "0.10: The spyware tool was only released by Microsoft in the last few\n",
      "weeks and has been downloaded by six million people.\n"
     ]
    }
   ],
   "source": [
    "#generate the summary by choosing top 30% sentences\n",
    "n = int(0.3*len(sents))\n",
    "for i in sort_idx[:n]:\n",
    "    print(wrap( \"%.2f: %s\" % (scores[i], sents[i])))"
   ]
  },
  {
   "cell_type": "code",
   "execution_count": 168,
   "id": "603f515d-8d76-4b0f-9639-c2c97fc5871d",
   "metadata": {},
   "outputs": [
    {
     "data": {
      "text/plain": [
       "' Microsoft seeking spyware trojan'"
      ]
     },
     "execution_count": 168,
     "metadata": {},
     "output_type": "execute_result"
    }
   ],
   "source": [
    "#lets check with the title to check how well the summary\n",
    "tech.iloc[2].split(\"\\n\",1)[0]"
   ]
  },
  {
   "cell_type": "markdown",
   "id": "95e5b16b-6a0b-4abb-be21-9c2344fdb525",
   "metadata": {},
   "source": [
    "**Compile the process**"
   ]
  },
  {
   "cell_type": "code",
   "execution_count": 169,
   "id": "5c3529ae-0fd4-4021-a838-3d584315b69d",
   "metadata": {},
   "outputs": [],
   "source": [
    "def summarize(text):\n",
    "    sents = nltk.sent_tokenize(text)\n",
    "    X = vectorize.fit_transform(sents)\n",
    "    \n",
    "    #compute scores for each sentence\n",
    "    scores = np.zeros(len(sents))\n",
    "    for i in range(len(sents)):\n",
    "        score = get_sentence_score(X[i,:])\n",
    "        scores[i] = score\n",
    "    sort_idx = np.argsort(-scores)\n",
    "    n = int(0.3*len(sents))\n",
    "    for i in sort_idx[:n]:\n",
    "        print(wrap( \"%.2f: %s\" % (scores[i], sents[i])))"
   ]
  },
  {
   "cell_type": "markdown",
   "id": "1a315cfb-a7fd-452e-a816-ccc97052bde5",
   "metadata": {},
   "source": [
    "**Entertaiment Article**"
   ]
  },
  {
   "cell_type": "code",
   "execution_count": 171,
   "id": "c74b53a9-6e47-4494-90c4-1ec2b4e2b6f2",
   "metadata": {},
   "outputs": [
    {
     "name": "stdout",
     "output_type": "stream",
     "text": [
      "0.20: His brother and bandmate Noel was in bed at the time.\n",
      "0.17: The band said they were victims of an \"unprovoked attack\" in a\n",
      "nightclub.\n",
      "0.10: At the time, police said a \"physical altercation\" broke out\n",
      "among the musicians at about 0200 local time.\n",
      "\n",
      " Orignal Document:\n",
      " Oasis star fined for German brawl\n",
      " \n",
      " Oasis singer Liam Gallagher has\n",
      "been fined 50,000 euros (£35,000) after a fight in a German hotel two\n",
      "years ago.\n",
      " \n",
      " Gallagher was arrested along with drummer Alan White and\n",
      "three other members of the band's entourage after the brawl in Munich\n",
      "in December 2002. The band said they were victims of an \"unprovoked\n",
      "attack\" in a nightclub.  But police said Gallagher kicked an officer\n",
      "in the chest and had large amounts of alcohol and drugs - possibly\n",
      "cocaine - in his blood.  Gallagher lost two front teeth in the fight,\n",
      "which led to the band abandoning their German tour.  His brother and\n",
      "bandmate Noel was in bed at the time.\n",
      " \n",
      " \"The process has stopped by\n",
      "paying 50,000 euros,\" said Anton Winkler, spokesman for the Munich\n",
      "prosecutor.  At the time, police said a \"physical altercation\" broke\n",
      "out among the musicians at about 0200 local time.  That led to one of\n",
      "the group being \"jostled\" and falling onto the table of five Italian\n",
      "guests - causing the fight, they said.  The fight continued outside,\n",
      "where \"one of the officers was kicked in the chest with full force by\n",
      "Liam Gallagher... and suffered minor injuries\", they said.\n"
     ]
    }
   ],
   "source": [
    "doc = df[df['label'] == \"entertainment\"]['text'].sample()\n",
    "summarize(doc.iloc[0].split(\"\\n\", 1)[1])\n",
    "print(\"\\n Orignal Document:\")\n",
    "print(wrap(doc.iloc[0]))"
   ]
  },
  {
   "cell_type": "markdown",
   "id": "6d48c4e1-0380-4cbf-b22f-8d6524529bac",
   "metadata": {},
   "source": [
    "**Politics Article**"
   ]
  },
  {
   "cell_type": "code",
   "execution_count": 144,
   "id": "dabe34f2-a667-4e4f-9192-45a750d22b78",
   "metadata": {},
   "outputs": [],
   "source": [
    "from termcolor import colored"
   ]
  },
  {
   "cell_type": "code",
   "execution_count": 172,
   "id": "b52375f1-219e-443d-822d-e88afb5b1f39",
   "metadata": {},
   "outputs": [
    {
     "name": "stdout",
     "output_type": "stream",
     "text": [
      "0.17: Israel will not attend, but is said to be closely watching the\n",
      "outcome.\n",
      "0.12: The attack, which killed five, was the first of its kind since\n",
      "he took office.\n",
      "0.11: The Israeli government refuses to accept Syria's denials that it\n",
      "was implicated in the nightclub bombing.\n",
      "0.11: He added: \"We have an opportunity and it would be irresponsible\n",
      "if we, the Israelis, or the world allow it to slip away.\"\n",
      "\u001b[1m\n",
      " Orignal Document:\u001b[0m\n",
      " Abbas 'will not tolerate' attacks\n",
      " \n",
      " Palestinian leader Mahmoud Abbas\n",
      "has said he will not tolerate attacks such as last Friday's suicide\n",
      "bombing in the Israeli city of Tel Aviv.\n",
      " \n",
      " In an interview ahead of a\n",
      "meeting in London to discuss Palestinian reforms, Mr Abbas said such\n",
      "attacks were against Palestinian interests.  The Palestinian Authority\n",
      "(PA) was exerting \"a 100% effort\" to end the violence, Mr Abbas added.\n",
      "The attack, which killed five, was the first of its kind since he took\n",
      "office.  Mr Abbas confirmed Israel shared information with the PA in\n",
      "the hunt for the organisers of the attack.  The Israeli government\n",
      "refuses to accept Syria's denials that it was implicated in the\n",
      "nightclub bombing.  Israeli officials gave an intelligence briefing to\n",
      "foreign ambassadors on Monday, explaining Syria's alleged involvement.\n",
      "British foreign minister Jack Straw said there had been a \"continuing\n",
      "stream\" of information suggesting Palestinian militant groups were\n",
      "operating from within Syria.\n",
      " \n",
      " In an email interview in the British\n",
      "newspaper the Independent, Mr Abbas said: \"We believe peace is\n",
      "possible now and we are ready to negotiate with Israel to reach a true\n",
      "and lasting peace based on justice and international legitimacy.\"  He\n",
      "added: \"We have an opportunity and it would be irresponsible if we,\n",
      "the Israelis, or the world allow it to slip away.\"  Tuesday's meeting\n",
      "on Palestinian reform is being hosted by British Prime Minister Tony\n",
      "Blair.  Also due to attend are US Secretary of State Condoleezza Rice,\n",
      "UN Secretary General Kofi Annan, World Bank officials and foreign\n",
      "ministers from 23 European and Arab countries.  The conference was a\n",
      "\"vital step\" in renewing the peace process, Mr Straw said.  \"It's a\n",
      "high-level attendance, which reflects the sense of momentum and\n",
      "opportunity created by recent events,\" he added.  A spokesman for Mr\n",
      "Blair said the Prime Minister expected the conference to discuss \"a\n",
      "comprehensive, co-ordinated and, above all, practical work plan for\n",
      "both the Palestinian Authority and the international community\".\n",
      "Israel will not attend, but is said to be closely watching the\n",
      "outcome.\n"
     ]
    }
   ],
   "source": [
    "doc = df[df['label'] == \"politics\"]['text'].sample()\n",
    "summarize(doc.iloc[0].split(\"\\n\", 1)[1])\n",
    "print(colored(\"\\n Orignal Document:\", attrs=['bold']))\n",
    "print(wrap(doc.iloc[0]))"
   ]
  },
  {
   "cell_type": "markdown",
   "id": "3416d0ea-c3fe-4bb5-84c6-22e68c7b2526",
   "metadata": {},
   "source": [
    "**Sport Article**"
   ]
  },
  {
   "cell_type": "code",
   "execution_count": 150,
   "id": "260a255d-bfe5-4274-a2ad-61ca70437fb7",
   "metadata": {},
   "outputs": [
    {
     "name": "stdout",
     "output_type": "stream",
     "text": [
      "0.13: \"We are watching it closely,\" said London race director David\n",
      "Bedford.\n",
      "0.12: \"There is a long way to go before the race and we are hoping the\n",
      "situation will be satisfactorily resolved.\"\n",
      "\u001b[1m\n",
      " Orignal Document:\u001b[0m\n",
      " London hope over Chepkemei\n",
      " \n",
      " London Marathon organisers are hoping\n",
      "that banned athlete Susan Chepkemei will still take part in this\n",
      "year's race on 17 April.\n",
      " \n",
      " Chepkemei was suspended from all\n",
      "competition until the end of the year by Athletics Kenya after failing\n",
      "to report to a national training camp.  \"We are watching it closely,\"\n",
      "said London race director David Bedford.  \"There is a long way to go\n",
      "before the race and we are hoping the situation will be satisfactorily\n",
      "resolved.\"  The camp in Embu was to prepare for the IAAF World Cross\n",
      "Country Championships later this month.  Chepkemei however took part\n",
      "and finished third in last Sunday's world best 10K race in Puerto\n",
      "Rico.  The 29-year-old has finished second to Paula Radcliffe in the\n",
      "2002 and 2003 London races as well as in November's New York City\n",
      "marathon.\n"
     ]
    }
   ],
   "source": [
    "doc = df[df['label'] == \"sport\"]['text'].sample()\n",
    "summarize(doc.iloc[0].split(\"\\n\", 1)[1])\n",
    "print(colored(\"\\n Orignal Document:\", attrs=['bold']))\n",
    "print(wrap(doc.iloc[0]))"
   ]
  }
 ],
 "metadata": {
  "kernelspec": {
   "display_name": "Python 3",
   "language": "python",
   "name": "python3"
  },
  "language_info": {
   "codemirror_mode": {
    "name": "ipython",
    "version": 3
   },
   "file_extension": ".py",
   "mimetype": "text/x-python",
   "name": "python",
   "nbconvert_exporter": "python",
   "pygments_lexer": "ipython3",
   "version": "3.8.8"
  }
 },
 "nbformat": 4,
 "nbformat_minor": 5
}
